{
 "cells": [
  {
   "cell_type": "markdown",
   "metadata": {},
   "source": [
    "# Dependencies"
   ]
  },
  {
   "cell_type": "code",
   "execution_count": 28,
   "metadata": {},
   "outputs": [],
   "source": [
    "import sys\n",
    "from datetime import datetime, timedelta\n",
    "import copy\n",
    "from operator import itemgetter\n",
    "import os\n",
    "from pathlib import Path\n",
    "\n",
    "from scipy.stats import pearsonr\n",
    "import numpy as np\n",
    "import pandas as pd\n",
    "from sklearn.neural_network import MLPClassifier\n",
    "from sklearn.neural_network import MLPRegressor\n",
    "from sklearn.svm import SVC\n",
    "from sklearn.svm import LinearSVC\n",
    "from sklearn.svm import SVR\n",
    "from sklearn.svm import LinearSVR\n",
    "from sklearn.neighbors import KNeighborsClassifier\n",
    "from sklearn.neighbors import KNeighborsRegressor\n",
    "from sklearn.tree import DecisionTreeClassifier\n",
    "from sklearn.tree import DecisionTreeRegressor\n",
    "from sklearn import tree\n",
    "from sklearn.naive_bayes import GaussianNB\n",
    "from sklearn.ensemble import RandomForestClassifier\n",
    "from sklearn.ensemble import RandomForestRegressor\n",
    "from sklearn.model_selection import GridSearchCV\n",
    "import matplotlib.pyplot as plt\n",
    "\n",
    "from Chapter7.PrepareDatasetForLearning import PrepareDatasetForLearning\n",
    "from Chapter7.Evaluation import ClassificationEvaluation\n",
    "from Chapter7.Evaluation import RegressionEvaluation\n",
    "from Chapter7.LearningAlgorithms import ClassificationAlgorithms\n",
    "from Chapter7.LearningAlgorithms import RegressionAlgorithms\n",
    "from Chapter3.OutlierDetection import DistributionBasedOutlierDetection\n",
    "from util.VisualizeDataset import VisualizeDataset\n"
   ]
  },
  {
   "cell_type": "markdown",
   "metadata": {},
   "source": [
    "# Dataset generation from files"
   ]
  },
  {
   "cell_type": "code",
   "execution_count": 29,
   "metadata": {},
   "outputs": [
    {
     "name": "stdout",
     "output_type": "stream",
     "text": [
      "[INFO] -- Selected sensor data types: ['attitude', 'userAcceleration', 'gravity', 'rotationRate']\n",
      "[INFO] -- Selected activites: ['dws', 'ups', 'wlk', 'jog', 'std', 'sit']\n",
      "[['attitude.roll', 'attitude.pitch', 'attitude.yaw'], ['userAcceleration.x', 'userAcceleration.y', 'userAcceleration.z'], ['gravity.x', 'gravity.y', 'gravity.z'], ['rotationRate.x', 'rotationRate.y', 'rotationRate.z']]\n",
      "[INFO] -- Data subjects' information is imported.\n",
      "[INFO] -- Creating Time-Series\n",
      "[INFO] -- Shape of time-Series dataset:(1412865, 19)\n"
     ]
    },
    {
     "data": {
      "text/html": [
       "<div>\n",
       "<style scoped>\n",
       "    .dataframe tbody tr th:only-of-type {\n",
       "        vertical-align: middle;\n",
       "    }\n",
       "\n",
       "    .dataframe tbody tr th {\n",
       "        vertical-align: top;\n",
       "    }\n",
       "\n",
       "    .dataframe thead th {\n",
       "        text-align: right;\n",
       "    }\n",
       "</style>\n",
       "<table border=\"1\" class=\"dataframe\">\n",
       "  <thead>\n",
       "    <tr style=\"text-align: right;\">\n",
       "      <th></th>\n",
       "      <th>attitude.roll</th>\n",
       "      <th>attitude.pitch</th>\n",
       "      <th>attitude.yaw</th>\n",
       "      <th>userAcceleration.x</th>\n",
       "      <th>userAcceleration.y</th>\n",
       "      <th>userAcceleration.z</th>\n",
       "      <th>gravity.x</th>\n",
       "      <th>gravity.y</th>\n",
       "      <th>gravity.z</th>\n",
       "      <th>rotationRate.x</th>\n",
       "      <th>rotationRate.y</th>\n",
       "      <th>rotationRate.z</th>\n",
       "      <th>act</th>\n",
       "      <th>id</th>\n",
       "      <th>weight</th>\n",
       "      <th>height</th>\n",
       "      <th>age</th>\n",
       "      <th>gender</th>\n",
       "      <th>trial</th>\n",
       "    </tr>\n",
       "  </thead>\n",
       "  <tbody>\n",
       "    <tr>\n",
       "      <th>0</th>\n",
       "      <td>1.528132</td>\n",
       "      <td>-0.733896</td>\n",
       "      <td>0.696372</td>\n",
       "      <td>0.294894</td>\n",
       "      <td>-0.184493</td>\n",
       "      <td>0.377542</td>\n",
       "      <td>0.741895</td>\n",
       "      <td>0.669768</td>\n",
       "      <td>-0.031672</td>\n",
       "      <td>0.316738</td>\n",
       "      <td>0.778180</td>\n",
       "      <td>1.082764</td>\n",
       "      <td>0.0</td>\n",
       "      <td>0.0</td>\n",
       "      <td>102.0</td>\n",
       "      <td>188.0</td>\n",
       "      <td>46.0</td>\n",
       "      <td>1.0</td>\n",
       "      <td>1.0</td>\n",
       "    </tr>\n",
       "    <tr>\n",
       "      <th>1</th>\n",
       "      <td>1.527992</td>\n",
       "      <td>-0.716987</td>\n",
       "      <td>0.677762</td>\n",
       "      <td>0.219405</td>\n",
       "      <td>0.035846</td>\n",
       "      <td>0.114866</td>\n",
       "      <td>0.753099</td>\n",
       "      <td>0.657116</td>\n",
       "      <td>-0.032255</td>\n",
       "      <td>0.842032</td>\n",
       "      <td>0.424446</td>\n",
       "      <td>0.643574</td>\n",
       "      <td>0.0</td>\n",
       "      <td>0.0</td>\n",
       "      <td>102.0</td>\n",
       "      <td>188.0</td>\n",
       "      <td>46.0</td>\n",
       "      <td>1.0</td>\n",
       "      <td>1.0</td>\n",
       "    </tr>\n",
       "    <tr>\n",
       "      <th>2</th>\n",
       "      <td>1.527765</td>\n",
       "      <td>-0.706999</td>\n",
       "      <td>0.670951</td>\n",
       "      <td>0.010714</td>\n",
       "      <td>0.134701</td>\n",
       "      <td>-0.167808</td>\n",
       "      <td>0.759611</td>\n",
       "      <td>0.649555</td>\n",
       "      <td>-0.032707</td>\n",
       "      <td>-0.138143</td>\n",
       "      <td>-0.040741</td>\n",
       "      <td>0.343563</td>\n",
       "      <td>0.0</td>\n",
       "      <td>0.0</td>\n",
       "      <td>102.0</td>\n",
       "      <td>188.0</td>\n",
       "      <td>46.0</td>\n",
       "      <td>1.0</td>\n",
       "      <td>1.0</td>\n",
       "    </tr>\n",
       "    <tr>\n",
       "      <th>3</th>\n",
       "      <td>1.516768</td>\n",
       "      <td>-0.704678</td>\n",
       "      <td>0.675735</td>\n",
       "      <td>-0.008389</td>\n",
       "      <td>0.136788</td>\n",
       "      <td>0.094958</td>\n",
       "      <td>0.760709</td>\n",
       "      <td>0.647788</td>\n",
       "      <td>-0.041140</td>\n",
       "      <td>-0.025005</td>\n",
       "      <td>-1.048717</td>\n",
       "      <td>0.035860</td>\n",
       "      <td>0.0</td>\n",
       "      <td>0.0</td>\n",
       "      <td>102.0</td>\n",
       "      <td>188.0</td>\n",
       "      <td>46.0</td>\n",
       "      <td>1.0</td>\n",
       "      <td>1.0</td>\n",
       "    </tr>\n",
       "    <tr>\n",
       "      <th>4</th>\n",
       "      <td>1.493941</td>\n",
       "      <td>-0.703918</td>\n",
       "      <td>0.672994</td>\n",
       "      <td>0.199441</td>\n",
       "      <td>0.353996</td>\n",
       "      <td>-0.044299</td>\n",
       "      <td>0.760062</td>\n",
       "      <td>0.647210</td>\n",
       "      <td>-0.058530</td>\n",
       "      <td>0.114253</td>\n",
       "      <td>-0.912890</td>\n",
       "      <td>0.047341</td>\n",
       "      <td>0.0</td>\n",
       "      <td>0.0</td>\n",
       "      <td>102.0</td>\n",
       "      <td>188.0</td>\n",
       "      <td>46.0</td>\n",
       "      <td>1.0</td>\n",
       "      <td>1.0</td>\n",
       "    </tr>\n",
       "  </tbody>\n",
       "</table>\n",
       "</div>"
      ],
      "text/plain": [
       "   attitude.roll  attitude.pitch  attitude.yaw  userAcceleration.x  \\\n",
       "0       1.528132       -0.733896      0.696372            0.294894   \n",
       "1       1.527992       -0.716987      0.677762            0.219405   \n",
       "2       1.527765       -0.706999      0.670951            0.010714   \n",
       "3       1.516768       -0.704678      0.675735           -0.008389   \n",
       "4       1.493941       -0.703918      0.672994            0.199441   \n",
       "\n",
       "   userAcceleration.y  userAcceleration.z  gravity.x  gravity.y  gravity.z  \\\n",
       "0           -0.184493            0.377542   0.741895   0.669768  -0.031672   \n",
       "1            0.035846            0.114866   0.753099   0.657116  -0.032255   \n",
       "2            0.134701           -0.167808   0.759611   0.649555  -0.032707   \n",
       "3            0.136788            0.094958   0.760709   0.647788  -0.041140   \n",
       "4            0.353996           -0.044299   0.760062   0.647210  -0.058530   \n",
       "\n",
       "   rotationRate.x  rotationRate.y  rotationRate.z  act   id  weight  height  \\\n",
       "0        0.316738        0.778180        1.082764  0.0  0.0   102.0   188.0   \n",
       "1        0.842032        0.424446        0.643574  0.0  0.0   102.0   188.0   \n",
       "2       -0.138143       -0.040741        0.343563  0.0  0.0   102.0   188.0   \n",
       "3       -0.025005       -1.048717        0.035860  0.0  0.0   102.0   188.0   \n",
       "4        0.114253       -0.912890        0.047341  0.0  0.0   102.0   188.0   \n",
       "\n",
       "    age  gender  trial  \n",
       "0  46.0     1.0    1.0  \n",
       "1  46.0     1.0    1.0  \n",
       "2  46.0     1.0    1.0  \n",
       "3  46.0     1.0    1.0  \n",
       "4  46.0     1.0    1.0  "
      ]
     },
     "execution_count": 29,
     "metadata": {},
     "output_type": "execute_result"
    }
   ],
   "source": [
    "import numpy as np\n",
    "import pandas as pd\n",
    "\n",
    "def get_ds_infos():\n",
    "    \"\"\"\n",
    "    Read the file includes data subject information.\n",
    "    \n",
    "    Data Columns:\n",
    "    0: code [1-24]\n",
    "    1: weight [kg]\n",
    "    2: height [cm]\n",
    "    3: age [years]\n",
    "    4: gender [0:Female, 1:Male]\n",
    "    \n",
    "    Returns:\n",
    "        A pandas DataFrame that contains inforamtion about data subjects' attributes \n",
    "    \"\"\" \n",
    "\n",
    "    dss = pd.read_csv(\"data_subjects_info.csv\")\n",
    "    print(\"[INFO] -- Data subjects' information is imported.\")\n",
    "    \n",
    "    return dss\n",
    "\n",
    "def set_data_types(data_types=[\"userAcceleration\", \"gravity\", \"rotationRate\"]):\n",
    "    \"\"\"\n",
    "    Select the sensors and the mode to shape the final dataset.\n",
    "    \n",
    "    Args:\n",
    "        data_types: A list of sensor data type from this list: [attitude, gravity, rotationRate, userAcceleration] \n",
    "\n",
    "    Returns:\n",
    "        It returns a list of columns to use for creating time-series from files.\n",
    "    \"\"\"\n",
    "    dt_list = []\n",
    "    for t in data_types:\n",
    "        if t != \"attitude\":\n",
    "            dt_list.append([t+\".x\",t+\".y\",t+\".z\"])\n",
    "        else:\n",
    "            dt_list.append([t+\".roll\", t+\".pitch\", t+\".yaw\"])\n",
    "    print(dt_list)\n",
    "    return dt_list\n",
    "\n",
    "\n",
    "def creat_time_series(dt_list, act_labels, trial_codes, mode=\"mag\", labeled=True):\n",
    "    \"\"\"\n",
    "    Args:\n",
    "        dt_list: A list of columns that shows the type of data we want.\n",
    "        act_labels: list of activites\n",
    "        trial_codes: list of trials\n",
    "        mode: It can be \"raw\" which means you want raw data\n",
    "        for every dimention of each data type,\n",
    "        [attitude(roll, pitch, yaw); gravity(x, y, z); rotationRate(x, y, z); userAcceleration(x,y,z)].\n",
    "        or it can be \"mag\" which means you only want the magnitude for each data type: (x^2+y^2+z^2)^(1/2)\n",
    "        labeled: True, if we want a labeld dataset. False, if we only want sensor values.\n",
    "\n",
    "    Returns:\n",
    "        It returns a time-series of sensor data.\n",
    "    \n",
    "    \"\"\"\n",
    "    num_data_cols = len(dt_list) if mode == \"mag\" else len(dt_list*3)\n",
    "\n",
    "    if labeled:\n",
    "        dataset = np.zeros((0,num_data_cols+7)) # \"7\" --> [act, code, weight, height, age, gender, trial] \n",
    "    else:\n",
    "        dataset = np.zeros((0,num_data_cols))\n",
    "        \n",
    "    ds_list = get_ds_infos()\n",
    "    \n",
    "    print(\"[INFO] -- Creating Time-Series\")\n",
    "    for sub_id in ds_list[\"code\"]:\n",
    "        for act_id, act in enumerate(act_labels):\n",
    "            for trial in trial_codes[act_id]:\n",
    "                fname = 'A_DeviceMotion_data/'+act+'_'+str(trial)+'/sub_'+str(int(sub_id))+'.csv'\n",
    "                raw_data = pd.read_csv(fname)\n",
    "                raw_data = raw_data.drop(['Unnamed: 0'], axis=1)\n",
    "                vals = np.zeros((len(raw_data), num_data_cols))\n",
    "                for x_id, axes in enumerate(dt_list):\n",
    "                    if mode == \"mag\":\n",
    "                        vals[:,x_id] = (raw_data[axes]**2).sum(axis=1)**0.5        \n",
    "                    else:\n",
    "                        vals[:,x_id*3:(x_id+1)*3] = raw_data[axes].values\n",
    "                    vals = vals[:,:num_data_cols]\n",
    "                if labeled:\n",
    "                    lbls = np.array([[act_id,\n",
    "                            sub_id-1,\n",
    "                            ds_list[\"weight\"][sub_id-1],\n",
    "                            ds_list[\"height\"][sub_id-1],\n",
    "                            ds_list[\"age\"][sub_id-1],\n",
    "                            ds_list[\"gender\"][sub_id-1],\n",
    "                            trial          \n",
    "                           ]]*len(raw_data))\n",
    "                    vals = np.concatenate((vals, lbls), axis=1)\n",
    "                dataset = np.append(dataset,vals, axis=0)\n",
    "    cols = []\n",
    "    for axes in dt_list:\n",
    "        if mode == \"raw\":\n",
    "            cols += axes\n",
    "        else:\n",
    "            cols += [str(axes[0][:-2])]\n",
    "            \n",
    "    if labeled:\n",
    "        cols += [\"act\", \"id\", \"weight\", \"height\", \"age\", \"gender\", \"trial\"]\n",
    "    \n",
    "    dataset = pd.DataFrame(data=dataset, columns=cols)\n",
    "    return dataset\n",
    "#________________________________\n",
    "\n",
    "\n",
    "ACT_LABELS = [\"dws\",\"ups\", \"wlk\", \"jog\", \"std\", \"sit\"]\n",
    "TRIAL_CODES = {\n",
    "    ACT_LABELS[0]:[1,2,11],\n",
    "    ACT_LABELS[1]:[3,4,12],\n",
    "    ACT_LABELS[2]:[7,8,15],\n",
    "    ACT_LABELS[3]:[9,16],\n",
    "    ACT_LABELS[4]:[6,14],\n",
    "    ACT_LABELS[5]:[5,13]\n",
    "}\n",
    "\n",
    "## Here we set parameter to build labeld time-series from dataset of \"(A)DeviceMotion_data\"\n",
    "## attitude(roll, pitch, yaw); gravity(x, y, z); rotationRate(x, y, z); userAcceleration(x,y,z)\n",
    "sdt = [\"attitude\", \"userAcceleration\", \"gravity\", \"rotationRate\"]\n",
    "print(\"[INFO] -- Selected sensor data types: \"+str(sdt))    \n",
    "act_labels = ACT_LABELS#[0:4]#\n",
    "print(\"[INFO] -- Selected activites: \"+str(act_labels))    \n",
    "trial_codes = [TRIAL_CODES[act] for act in act_labels]\n",
    "dt_list = set_data_types(sdt)\n",
    "dataset = creat_time_series(dt_list, act_labels, trial_codes, mode=\"raw\", labeled=True)\n",
    "print(\"[INFO] -- Shape of time-Series dataset:\"+str(dataset.shape))    \n",
    "dataset.head()"
   ]
  },
  {
   "cell_type": "code",
   "execution_count": 4,
   "metadata": {},
   "outputs": [
    {
     "data": {
      "text/plain": [
       "array([0., 1., 2., 3., 4., 5.])"
      ]
     },
     "execution_count": 4,
     "metadata": {},
     "output_type": "execute_result"
    }
   ],
   "source": [
    "dataset.act.unique()"
   ]
  },
  {
   "cell_type": "code",
   "execution_count": 5,
   "metadata": {},
   "outputs": [
    {
     "name": "stdout",
     "output_type": "stream",
     "text": [
      "[ 1.  2. 11.  3.  4. 12.  7.  8. 15.  9. 16.  6. 14.  5. 13.] 15\n"
     ]
    }
   ],
   "source": [
    "print(dataset.trial.unique(), len(dataset.trial.unique()))"
   ]
  },
  {
   "cell_type": "markdown",
   "metadata": {},
   "source": [
    "# Preprocessing"
   ]
  },
  {
   "cell_type": "markdown",
   "metadata": {},
   "source": [
    "#### Check for missing values"
   ]
  },
  {
   "cell_type": "code",
   "execution_count": 54,
   "metadata": {},
   "outputs": [
    {
     "name": "stdout",
     "output_type": "stream",
     "text": [
      "Num missing in attitude.roll : 0\n",
      "Num missing in attitude.pitch : 0\n",
      "Num missing in attitude.yaw : 0\n",
      "Num missing in userAcceleration.x : 0\n",
      "Num missing in userAcceleration.y : 0\n",
      "Num missing in userAcceleration.z : 0\n",
      "Num missing in gravity.x : 0\n",
      "Num missing in gravity.y : 0\n",
      "Num missing in gravity.z : 0\n",
      "Num missing in rotationRate.x : 0\n",
      "Num missing in rotationRate.y : 0\n",
      "Num missing in rotationRate.z : 0\n",
      "Num missing in act : 0\n",
      "Num missing in weight : 0\n",
      "Num missing in height : 0\n",
      "Num missing in age : 0\n",
      "Num missing in gender : 0\n",
      "Num missing in trial : 0\n"
     ]
    }
   ],
   "source": [
    "#Check all columns for missing values\n",
    "\n",
    "for i in dataset.columns:\n",
    "    print(\"Num missing in\", i, \":\", dataset[i].isnull().sum())"
   ]
  },
  {
   "cell_type": "markdown",
   "metadata": {},
   "source": [
    "#### Check for outliers "
   ]
  },
  {
   "cell_type": "code",
   "execution_count": 60,
   "metadata": {},
   "outputs": [
    {
     "data": {
      "image/png": "[encoded data removed]",
      "text/plain": [
       "<Figure size 432x288 with 1 Axes>"
      ]
     },
     "metadata": {
      "needs_background": "light"
     },
     "output_type": "display_data"
    },
    {
     "data": {
      "image/png": "[encoded data removed]",
      "text/plain": [
       "<Figure size 432x288 with 1 Axes>"
      ]
     },
     "metadata": {
      "needs_background": "light"
     },
     "output_type": "display_data"
    },
    {
     "data": {
      "image/png": "[encoded data removed]",
      "text/plain": [
       "<Figure size 432x288 with 1 Axes>"
      ]
     },
     "metadata": {
      "needs_background": "light"
     },
     "output_type": "display_data"
    },
    {
     "data": {
      "image/png": "[encoded data removed]",
      "text/plain": [
       "<Figure size 432x288 with 1 Axes>"
      ]
     },
     "metadata": {
      "needs_background": "light"
     },
     "output_type": "display_data"
    },
    {
     "data": {
      "image/png": "[encoded data removed]",
      "text/plain": [
       "<Figure size 432x288 with 1 Axes>"
      ]
     },
     "metadata": {
      "needs_background": "light"
     },
     "output_type": "display_data"
    },
    {
     "data": {
      "image/png": "[encoded data removed]",
      "text/plain": [
       "<Figure size 432x288 with 1 Axes>"
      ]
     },
     "metadata": {
      "needs_background": "light"
     },
     "output_type": "display_data"
    },
    {
     "data": {
      "image/png": "[encoded data removed]",
      "text/plain": [
       "<Figure size 432x288 with 1 Axes>"
      ]
     },
     "metadata": {
      "needs_background": "light"
     },
     "output_type": "display_data"
    },
    {
     "data": {
      "image/png": "[encoded data removed]",
      "text/plain": [
       "<Figure size 432x288 with 1 Axes>"
      ]
     },
     "metadata": {
      "needs_background": "light"
     },
     "output_type": "display_data"
    },
    {
     "data": {
      "image/png": "[encoded data removed]",
      "text/plain": [
       "<Figure size 432x288 with 1 Axes>"
      ]
     },
     "metadata": {
      "needs_background": "light"
     },
     "output_type": "display_data"
    },
    {
     "data": {
      "image/png": "[encoded data removed]",
      "text/plain": [
       "<Figure size 432x288 with 1 Axes>"
      ]
     },
     "metadata": {
      "needs_background": "light"
     },
     "output_type": "display_data"
    },
    {
     "data": {
      "image/png": "[encoded data removed]",
      "text/plain": [
       "<Figure size 432x288 with 1 Axes>"
      ]
     },
     "metadata": {
      "needs_background": "light"
     },
     "output_type": "display_data"
    },
    {
     "data": {
      "image/png": "[encoded data removed]",
      "text/plain": [
       "<Figure size 432x288 with 1 Axes>"
      ]
     },
     "metadata": {
      "needs_background": "light"
     },
     "output_type": "display_data"
    },
    {
     "data": {
      "image/png": "[encoded data removed]",
      "text/plain": [
       "<Figure size 432x288 with 1 Axes>"
      ]
     },
     "metadata": {
      "needs_background": "light"
     },
     "output_type": "display_data"
    },
    {
     "data": {
      "image/png": "[encoded data removed]",
      "text/plain": [
       "<Figure size 432x288 with 1 Axes>"
      ]
     },
     "metadata": {
      "needs_background": "light"
     },
     "output_type": "display_data"
    },
    {
     "data": {
      "image/png": "[encoded data removed]",
      "text/plain": [
       "<Figure size 432x288 with 1 Axes>"
      ]
     },
     "metadata": {
      "needs_background": "light"
     },
     "output_type": "display_data"
    },
    {
     "data": {
      "image/png": "[encoded data removed]",
      "text/plain": [
       "<Figure size 432x288 with 1 Axes>"
      ]
     },
     "metadata": {
      "needs_background": "light"
     },
     "output_type": "display_data"
    },
    {
     "data": {
      "image/png": "[encoded data removed]",
      "text/plain": [
       "<Figure size 432x288 with 1 Axes>"
      ]
     },
     "metadata": {
      "needs_background": "light"
     },
     "output_type": "display_data"
    },
    {
     "data": {
      "image/png": "[encoded data removed]",
      "text/plain": [
       "<Figure size 432x288 with 1 Axes>"
      ]
     },
     "metadata": {
      "needs_background": "light"
     },
     "output_type": "display_data"
    }
   ],
   "source": [
    "#Visual inspection seems to show everything within a normal range\n",
    "for i in dataset.columns:\n",
    "    plt.figure()\n",
    "    plt.title(i)\n",
    "    dataset[i].hist()\n",
    "    plt.show()"
   ]
  },
  {
   "cell_type": "code",
   "execution_count": 6,
   "metadata": {},
   "outputs": [],
   "source": [
    "#dataset.to_csv(Path('data_date_time_index.csv'))\n"
   ]
  },
  {
   "cell_type": "markdown",
   "metadata": {},
   "source": [
    "# Outlier detection"
   ]
  },
  {
   "cell_type": "code",
   "execution_count": 23,
   "metadata": {},
   "outputs": [],
   "source": [
    "dataset = pd.read_csv(Path('data_date_time_index.csv'))\n",
    "# # dataset.drop(columns=['Unnamed: 0.1'], inplace=True)\n",
    "# dataset.set_index('Unnamed: 0',inplace=True)\n",
    "# dataset.index = dataset.index.astype(int)"
   ]
  },
  {
   "cell_type": "code",
   "execution_count": 37,
   "metadata": {},
   "outputs": [
    {
     "data": {
      "text/plain": [
       "Index(['attitude.roll', 'attitude.pitch', 'attitude.yaw', 'userAcceleration.x',\n",
       "       'userAcceleration.y', 'userAcceleration.z', 'gravity.x', 'gravity.y',\n",
       "       'gravity.z', 'rotationRate.x', 'rotationRate.y', 'rotationRate.z'],\n",
       "      dtype='object')"
      ]
     },
     "execution_count": 37,
     "metadata": {},
     "output_type": "execute_result"
    }
   ],
   "source": [
    "dataset.columns[:12]"
   ]
  },
  {
   "cell_type": "code",
   "execution_count": 31,
   "metadata": {},
   "outputs": [],
   "source": [
    "vis = VisualizeDataset()\n",
    "dist_detection = DistributionBasedOutlierDetection()\n",
    "trials = [dataset[dataset['trial']==i] for i in dataset['trial'].unique()]"
   ]
  },
  {
   "cell_type": "code",
   "execution_count": 41,
   "metadata": {},
   "outputs": [
    {
     "name": "stdout",
     "output_type": "stream",
     "text": [
      "attitude.roll\n",
      "0          1.096643\n",
      "1          1.096546\n",
      "2          1.096390\n",
      "3          1.088817\n",
      "4          1.073098\n",
      "             ...   \n",
      "1363502    1.352904\n",
      "1363503    1.419425\n",
      "1363504    1.473053\n",
      "1363505    1.517894\n",
      "1363506    1.608910\n",
      "Name: attitude.roll, Length: 50246, dtype: float64\n",
      "attitude.roll\n"
     ]
    },
    {
     "ename": "KeyError",
     "evalue": "1751",
     "output_type": "error",
     "traceback": [
      "\u001b[0;31m---------------------------------------------------------------------------\u001b[0m",
      "\u001b[0;31mKeyError\u001b[0m                                  Traceback (most recent call last)",
      "\u001b[0;32m<ipython-input-41-9672589dd74e>\u001b[0m in \u001b[0;36m<module>\u001b[0;34m\u001b[0m\n\u001b[1;32m      6\u001b[0m         \u001b[0;31m#print(trials[i].columns)\u001b[0m\u001b[0;34m\u001b[0m\u001b[0;34m\u001b[0m\u001b[0;34m\u001b[0m\u001b[0m\n\u001b[1;32m      7\u001b[0m \u001b[0;34m\u001b[0m\u001b[0m\n\u001b[0;32m----> 8\u001b[0;31m         \u001b[0mdist_detection\u001b[0m\u001b[0;34m.\u001b[0m\u001b[0mchauvenet\u001b[0m\u001b[0;34m(\u001b[0m\u001b[0mtrials\u001b[0m\u001b[0;34m[\u001b[0m\u001b[0mi\u001b[0m\u001b[0;34m]\u001b[0m\u001b[0;34m,\u001b[0m \u001b[0mcol\u001b[0m\u001b[0;34m)\u001b[0m\u001b[0;34m\u001b[0m\u001b[0;34m\u001b[0m\u001b[0m\n\u001b[0m\u001b[1;32m      9\u001b[0m \u001b[0;34m\u001b[0m\u001b[0m\n\u001b[1;32m     10\u001b[0m         \u001b[0;31m#vis.plot_binary_outliers(dataset, col, col+'_outlier')\u001b[0m\u001b[0;34m\u001b[0m\u001b[0;34m\u001b[0m\u001b[0;34m\u001b[0m\u001b[0m\n",
      "\u001b[0;32m~/Documents/GitHub/ML4QS/ML4QS_Assignment_3/Chapter3/OutlierDetection.py\u001b[0m in \u001b[0;36mchauvenet\u001b[0;34m(self, data_table, col)\u001b[0m\n\u001b[1;32m     52\u001b[0m             \u001b[0;31m# Determine the probability of observing the point\u001b[0m\u001b[0;34m\u001b[0m\u001b[0;34m\u001b[0m\u001b[0;34m\u001b[0m\u001b[0m\n\u001b[1;32m     53\u001b[0m             prob.append(\n\u001b[0;32m---> 54\u001b[0;31m                 1.0 - 0.5 * (scipy.special.erf(high[i]) - scipy.special.erf(low[i])))\n\u001b[0m\u001b[1;32m     55\u001b[0m             \u001b[0;31m# And mark as an outlier when the probability is below our criterion.\u001b[0m\u001b[0;34m\u001b[0m\u001b[0;34m\u001b[0m\u001b[0;34m\u001b[0m\u001b[0m\n\u001b[1;32m     56\u001b[0m             \u001b[0mmask\u001b[0m\u001b[0;34m.\u001b[0m\u001b[0mappend\u001b[0m\u001b[0;34m(\u001b[0m\u001b[0mprob\u001b[0m\u001b[0;34m[\u001b[0m\u001b[0mi\u001b[0m\u001b[0;34m]\u001b[0m \u001b[0;34m<\u001b[0m \u001b[0mcriterion\u001b[0m\u001b[0;34m)\u001b[0m\u001b[0;34m\u001b[0m\u001b[0;34m\u001b[0m\u001b[0m\n",
      "\u001b[0;32m~/opt/anaconda3/lib/python3.7/site-packages/pandas/core/series.py\u001b[0m in \u001b[0;36m__getitem__\u001b[0;34m(self, key)\u001b[0m\n\u001b[1;32m    869\u001b[0m         \u001b[0mkey\u001b[0m \u001b[0;34m=\u001b[0m \u001b[0mcom\u001b[0m\u001b[0;34m.\u001b[0m\u001b[0mapply_if_callable\u001b[0m\u001b[0;34m(\u001b[0m\u001b[0mkey\u001b[0m\u001b[0;34m,\u001b[0m \u001b[0mself\u001b[0m\u001b[0;34m)\u001b[0m\u001b[0;34m\u001b[0m\u001b[0;34m\u001b[0m\u001b[0m\n\u001b[1;32m    870\u001b[0m         \u001b[0;32mtry\u001b[0m\u001b[0;34m:\u001b[0m\u001b[0;34m\u001b[0m\u001b[0;34m\u001b[0m\u001b[0m\n\u001b[0;32m--> 871\u001b[0;31m             \u001b[0mresult\u001b[0m \u001b[0;34m=\u001b[0m \u001b[0mself\u001b[0m\u001b[0;34m.\u001b[0m\u001b[0mindex\u001b[0m\u001b[0;34m.\u001b[0m\u001b[0mget_value\u001b[0m\u001b[0;34m(\u001b[0m\u001b[0mself\u001b[0m\u001b[0;34m,\u001b[0m \u001b[0mkey\u001b[0m\u001b[0;34m)\u001b[0m\u001b[0;34m\u001b[0m\u001b[0;34m\u001b[0m\u001b[0m\n\u001b[0m\u001b[1;32m    872\u001b[0m \u001b[0;34m\u001b[0m\u001b[0m\n\u001b[1;32m    873\u001b[0m             \u001b[0;32mif\u001b[0m \u001b[0;32mnot\u001b[0m \u001b[0mis_scalar\u001b[0m\u001b[0;34m(\u001b[0m\u001b[0mresult\u001b[0m\u001b[0;34m)\u001b[0m\u001b[0;34m:\u001b[0m\u001b[0;34m\u001b[0m\u001b[0;34m\u001b[0m\u001b[0m\n",
      "\u001b[0;32m~/opt/anaconda3/lib/python3.7/site-packages/pandas/core/indexes/base.py\u001b[0m in \u001b[0;36mget_value\u001b[0;34m(self, series, key)\u001b[0m\n\u001b[1;32m   4402\u001b[0m         \u001b[0mk\u001b[0m \u001b[0;34m=\u001b[0m \u001b[0mself\u001b[0m\u001b[0;34m.\u001b[0m\u001b[0m_convert_scalar_indexer\u001b[0m\u001b[0;34m(\u001b[0m\u001b[0mk\u001b[0m\u001b[0;34m,\u001b[0m \u001b[0mkind\u001b[0m\u001b[0;34m=\u001b[0m\u001b[0;34m\"getitem\"\u001b[0m\u001b[0;34m)\u001b[0m\u001b[0;34m\u001b[0m\u001b[0;34m\u001b[0m\u001b[0m\n\u001b[1;32m   4403\u001b[0m         \u001b[0;32mtry\u001b[0m\u001b[0;34m:\u001b[0m\u001b[0;34m\u001b[0m\u001b[0;34m\u001b[0m\u001b[0m\n\u001b[0;32m-> 4404\u001b[0;31m             \u001b[0;32mreturn\u001b[0m \u001b[0mself\u001b[0m\u001b[0;34m.\u001b[0m\u001b[0m_engine\u001b[0m\u001b[0;34m.\u001b[0m\u001b[0mget_value\u001b[0m\u001b[0;34m(\u001b[0m\u001b[0ms\u001b[0m\u001b[0;34m,\u001b[0m \u001b[0mk\u001b[0m\u001b[0;34m,\u001b[0m \u001b[0mtz\u001b[0m\u001b[0;34m=\u001b[0m\u001b[0mgetattr\u001b[0m\u001b[0;34m(\u001b[0m\u001b[0mseries\u001b[0m\u001b[0;34m.\u001b[0m\u001b[0mdtype\u001b[0m\u001b[0;34m,\u001b[0m \u001b[0;34m\"tz\"\u001b[0m\u001b[0;34m,\u001b[0m \u001b[0;32mNone\u001b[0m\u001b[0;34m)\u001b[0m\u001b[0;34m)\u001b[0m\u001b[0;34m\u001b[0m\u001b[0;34m\u001b[0m\u001b[0m\n\u001b[0m\u001b[1;32m   4405\u001b[0m         \u001b[0;32mexcept\u001b[0m \u001b[0mKeyError\u001b[0m \u001b[0;32mas\u001b[0m \u001b[0me1\u001b[0m\u001b[0;34m:\u001b[0m\u001b[0;34m\u001b[0m\u001b[0;34m\u001b[0m\u001b[0m\n\u001b[1;32m   4406\u001b[0m             \u001b[0;32mif\u001b[0m \u001b[0mlen\u001b[0m\u001b[0;34m(\u001b[0m\u001b[0mself\u001b[0m\u001b[0;34m)\u001b[0m \u001b[0;34m>\u001b[0m \u001b[0;36m0\u001b[0m \u001b[0;32mand\u001b[0m \u001b[0;34m(\u001b[0m\u001b[0mself\u001b[0m\u001b[0;34m.\u001b[0m\u001b[0mholds_integer\u001b[0m\u001b[0;34m(\u001b[0m\u001b[0;34m)\u001b[0m \u001b[0;32mor\u001b[0m \u001b[0mself\u001b[0m\u001b[0;34m.\u001b[0m\u001b[0mis_boolean\u001b[0m\u001b[0;34m(\u001b[0m\u001b[0;34m)\u001b[0m\u001b[0;34m)\u001b[0m\u001b[0;34m:\u001b[0m\u001b[0;34m\u001b[0m\u001b[0;34m\u001b[0m\u001b[0m\n",
      "\u001b[0;32mpandas/_libs/index.pyx\u001b[0m in \u001b[0;36mpandas._libs.index.IndexEngine.get_value\u001b[0;34m()\u001b[0m\n",
      "\u001b[0;32mpandas/_libs/index.pyx\u001b[0m in \u001b[0;36mpandas._libs.index.IndexEngine.get_value\u001b[0;34m()\u001b[0m\n",
      "\u001b[0;32mpandas/_libs/index.pyx\u001b[0m in \u001b[0;36mpandas._libs.index.IndexEngine.get_loc\u001b[0;34m()\u001b[0m\n",
      "\u001b[0;32mpandas/_libs/hashtable_class_helper.pxi\u001b[0m in \u001b[0;36mpandas._libs.hashtable.Int64HashTable.get_item\u001b[0;34m()\u001b[0m\n",
      "\u001b[0;32mpandas/_libs/hashtable_class_helper.pxi\u001b[0m in \u001b[0;36mpandas._libs.hashtable.Int64HashTable.get_item\u001b[0;34m()\u001b[0m\n",
      "\u001b[0;31mKeyError\u001b[0m: 1751"
     ]
    }
   ],
   "source": [
    "# id_ = dataset['id']\n",
    "# dataset.drop(columns=['id'], inplace=True)\n",
    "for i in range(len(trials)):\n",
    "    for col in list(trials[i]):\n",
    "        print(col)\n",
    "        #print(trials[i].columns)\n",
    "\n",
    "        dist_detection.chauvenet(trials[i], col)\n",
    "\n",
    "        #vis.plot_binary_outliers(dataset, col, col+'_outlier')"
   ]
  },
  {
   "cell_type": "code",
   "execution_count": 42,
   "metadata": {},
   "outputs": [
    {
     "name": "stdout",
     "output_type": "stream",
     "text": [
      "0          1.087781\n",
      "1          1.087692\n",
      "2          1.087547\n",
      "3          1.080528\n",
      "4          1.065957\n",
      "             ...   \n",
      "1412860    1.399313\n",
      "1412861    1.399615\n",
      "1412862    1.399856\n",
      "1412863    1.400010\n",
      "1412864    1.400031\n",
      "Name: attitude.roll, Length: 1412865, dtype: float64\n",
      "attitude.roll\n",
      "0          0.511556\n",
      "1          0.545779\n",
      "2          0.565994\n",
      "3          0.570692\n",
      "4          0.572230\n",
      "             ...   \n",
      "1412860    1.225644\n",
      "1412861    1.225652\n",
      "1412862    1.225466\n",
      "1412863    1.225199\n",
      "1412864    1.225195\n",
      "Name: attitude.pitch, Length: 1412865, dtype: float64\n",
      "attitude.pitch\n",
      "0          0.547422\n",
      "1          0.535375\n",
      "2          0.530966\n",
      "3          0.534063\n",
      "4          0.532288\n",
      "             ...   \n",
      "1412860    0.038745\n",
      "1412861    0.038705\n",
      "1412862    0.038714\n",
      "1412863    0.038712\n",
      "1412864    0.038662\n",
      "Name: attitude.yaw, Length: 1412865, dtype: float64\n",
      "attitude.yaw\n",
      "0          0.910410\n",
      "1          0.680407\n",
      "2          0.044559\n",
      "3          0.013645\n",
      "4          0.619580\n",
      "             ...   \n",
      "1412860    0.014319\n",
      "1412861    0.010669\n",
      "1412862    0.010434\n",
      "1412863    0.012863\n",
      "1412864    0.016050\n",
      "Name: userAcceleration.x, Length: 1412865, dtype: float64\n",
      "userAcceleration.x\n",
      "0          0.433570\n",
      "1          0.015918\n",
      "2          0.171461\n",
      "3          0.175417\n",
      "4          0.587134\n",
      "             ...   \n",
      "1412860    0.095118\n",
      "1412861    0.085016\n",
      "1412862    0.082516\n",
      "1412863    0.090299\n",
      "1412864    0.092413\n",
      "Name: userAcceleration.y, Length: 1412865, dtype: float64\n",
      "userAcceleration.y\n",
      "0          0.899148\n",
      "1          0.200935\n",
      "2          0.550434\n",
      "3          0.148018\n",
      "4          0.222137\n",
      "             ...   \n",
      "1412860    0.115963\n",
      "1412861    0.104127\n",
      "1412862    0.098952\n",
      "1412863    0.091772\n",
      "1412864    0.093327\n",
      "Name: userAcceleration.z, Length: 1412865, dtype: float64\n",
      "userAcceleration.z\n",
      "0          2.065228\n",
      "1          2.098295\n",
      "2          2.117514\n",
      "3          2.120755\n",
      "4          2.118845\n",
      "             ...   \n",
      "1412860    2.038000\n",
      "1412861    2.037079\n",
      "1412862    2.036265\n",
      "1412863    2.035689\n",
      "1412864    2.035627\n",
      "Name: gravity.x, Length: 1412865, dtype: float64\n",
      "gravity.x\n",
      "0          0.254915\n",
      "1          0.292879\n",
      "2          0.315566\n",
      "3          0.320869\n",
      "4          0.322603\n",
      "             ...   \n",
      "1412860    1.148645\n",
      "1412861    1.148657\n",
      "1412862    1.148402\n",
      "1412863    1.148033\n",
      "1412864    1.148030\n",
      "Name: gravity.y, Length: 1412865, dtype: float64\n",
      "gravity.y\n",
      "0          0.250168\n",
      "1          0.248807\n",
      "2          0.247752\n",
      "3          0.228063\n",
      "4          0.187463\n",
      "             ...   \n",
      "1412860    1.874967\n",
      "1412861    1.875684\n",
      "1412862    1.876200\n",
      "1412863    1.876482\n",
      "1412864    1.876531\n",
      "Name: gravity.z, Length: 1412865, dtype: float64\n",
      "gravity.z\n",
      "0          0.240864\n",
      "1          0.647150\n",
      "2          0.110962\n",
      "3          0.023456\n",
      "4          0.084253\n",
      "             ...   \n",
      "1412860    0.005130\n",
      "1412861    0.004342\n",
      "1412862    0.001459\n",
      "1412863    0.000664\n",
      "1412864    0.000701\n",
      "Name: rotationRate.x, Length: 1412865, dtype: float64\n",
      "rotationRate.x\n",
      "0          0.622599\n",
      "1          0.334182\n",
      "2          0.045107\n",
      "3          0.866958\n",
      "4          0.756212\n",
      "             ...   \n",
      "1412860    0.021275\n",
      "1412861    0.029964\n",
      "1412862    0.022175\n",
      "1412863    0.014358\n",
      "1412864    0.001349\n",
      "Name: rotationRate.y, Length: 1412865, dtype: float64\n",
      "rotationRate.y\n",
      "0          1.324195\n",
      "1          0.780670\n",
      "2          0.409388\n",
      "3          0.028587\n",
      "4          0.042796\n",
      "             ...   \n",
      "1412860    0.014203\n",
      "1412861    0.014177\n",
      "1412862    0.011482\n",
      "1412863    0.010184\n",
      "1412864    0.004905\n",
      "Name: rotationRate.z, Length: 1412865, dtype: float64\n",
      "rotationRate.z\n",
      "0          1.794593\n",
      "1          1.794593\n",
      "2          1.794593\n",
      "3          1.794593\n",
      "4          1.794593\n",
      "             ...   \n",
      "1412860    1.246944\n",
      "1412861    1.246944\n",
      "1412862    1.246944\n",
      "1412863    1.246944\n",
      "1412864    1.246944\n",
      "Name: act, Length: 1412865, dtype: float64\n",
      "act\n",
      "0          1.656603\n",
      "1          1.656603\n",
      "2          1.656603\n",
      "3          1.656603\n",
      "4          1.656603\n",
      "             ...   \n",
      "1412860    1.664763\n",
      "1412861    1.664763\n",
      "1412862    1.664763\n",
      "1412863    1.664763\n",
      "1412864    1.664763\n",
      "Name: id, Length: 1412865, dtype: float64\n",
      "id\n",
      "0          1.869652\n",
      "1          1.869652\n",
      "2          1.869652\n",
      "3          1.869652\n",
      "4          1.869652\n",
      "             ...   \n",
      "1412860    0.117603\n",
      "1412861    0.117603\n",
      "1412862    0.117603\n",
      "1412863    0.117603\n",
      "1412864    0.117603\n",
      "Name: weight, Length: 1412865, dtype: float64\n",
      "weight\n",
      "0          1.592407\n",
      "1          1.592407\n",
      "2          1.592407\n",
      "3          1.592407\n",
      "4          1.592407\n",
      "             ...   \n",
      "1412860    0.112407\n",
      "1412861    0.112407\n",
      "1412862    0.112407\n",
      "1412863    0.112407\n",
      "1412864    0.112407\n",
      "Name: height, Length: 1412865, dtype: float64\n",
      "height\n",
      "0          3.237126\n",
      "1          3.237126\n",
      "2          3.237126\n",
      "3          3.237126\n",
      "4          3.237126\n",
      "             ...   \n",
      "1412860    2.042443\n",
      "1412861    2.042443\n",
      "1412862    2.042443\n",
      "1412863    2.042443\n",
      "1412864    2.042443\n",
      "Name: age, Length: 1412865, dtype: float64\n",
      "age\n",
      "0          0.862097\n",
      "1          0.862097\n",
      "2          0.862097\n",
      "3          0.862097\n",
      "4          0.862097\n",
      "             ...   \n",
      "1412860    1.159961\n",
      "1412861    1.159961\n",
      "1412862    1.159961\n",
      "1412863    1.159961\n",
      "1412864    1.159961\n",
      "Name: gender, Length: 1412865, dtype: float64\n",
      "gender\n",
      "0          1.684825\n",
      "1          1.684825\n",
      "2          1.684825\n",
      "3          1.684825\n",
      "4          1.684825\n",
      "             ...   \n",
      "1412860    1.391194\n",
      "1412861    1.391194\n",
      "1412862    1.391194\n",
      "1412863    1.391194\n",
      "1412864    1.391194\n",
      "Name: trial, Length: 1412865, dtype: float64\n",
      "trial\n",
      "0         NaN\n",
      "1         NaN\n",
      "2         NaN\n",
      "3         NaN\n",
      "4         NaN\n",
      "           ..\n",
      "1412860   NaN\n",
      "1412861   NaN\n",
      "1412862   NaN\n",
      "1412863   NaN\n",
      "1412864   NaN\n",
      "Name: attitude.roll_outlier, Length: 1412865, dtype: float64\n",
      "attitude.roll_outlier\n",
      "0          0.009406\n",
      "1          0.009406\n",
      "2          0.009406\n",
      "3          0.009406\n",
      "4          0.009406\n",
      "             ...   \n",
      "1412860    0.009406\n",
      "1412861    0.009406\n",
      "1412862    0.009406\n",
      "1412863    0.009406\n",
      "1412864    0.009406\n",
      "Name: attitude.pitch_outlier, Length: 1412865, dtype: float64\n",
      "attitude.pitch_outlier\n",
      "0         NaN\n",
      "1         NaN\n",
      "2         NaN\n",
      "3         NaN\n",
      "4         NaN\n",
      "           ..\n",
      "1412860   NaN\n",
      "1412861   NaN\n",
      "1412862   NaN\n",
      "1412863   NaN\n",
      "1412864   NaN\n",
      "Name: attitude.yaw_outlier, Length: 1412865, dtype: float64\n",
      "attitude.yaw_outlier\n"
     ]
    }
   ],
   "source": [
    "for col in dataset:\n",
    "\n",
    "        dist_detection.chauvenet(dataset, col)"
   ]
  },
  {
   "cell_type": "code",
   "execution_count": 43,
   "metadata": {},
   "outputs": [],
   "source": [
    "dataset.to_csv(Path('outliers_detected_set.csv'))"
   ]
  },
  {
   "cell_type": "code",
   "execution_count": 44,
   "metadata": {},
   "outputs": [
    {
     "data": {
      "text/html": [
       "<div>\n",
       "<style scoped>\n",
       "    .dataframe tbody tr th:only-of-type {\n",
       "        vertical-align: middle;\n",
       "    }\n",
       "\n",
       "    .dataframe tbody tr th {\n",
       "        vertical-align: top;\n",
       "    }\n",
       "\n",
       "    .dataframe thead th {\n",
       "        text-align: right;\n",
       "    }\n",
       "</style>\n",
       "<table border=\"1\" class=\"dataframe\">\n",
       "  <thead>\n",
       "    <tr style=\"text-align: right;\">\n",
       "      <th></th>\n",
       "      <th>attitude.roll</th>\n",
       "      <th>attitude.pitch</th>\n",
       "      <th>attitude.yaw</th>\n",
       "      <th>userAcceleration.x</th>\n",
       "      <th>userAcceleration.y</th>\n",
       "      <th>userAcceleration.z</th>\n",
       "      <th>gravity.x</th>\n",
       "      <th>gravity.y</th>\n",
       "      <th>gravity.z</th>\n",
       "      <th>rotationRate.x</th>\n",
       "      <th>...</th>\n",
       "      <th>act_outlier</th>\n",
       "      <th>id_outlier</th>\n",
       "      <th>weight_outlier</th>\n",
       "      <th>height_outlier</th>\n",
       "      <th>age_outlier</th>\n",
       "      <th>gender_outlier</th>\n",
       "      <th>trial_outlier</th>\n",
       "      <th>attitude.roll_outlier_outlier</th>\n",
       "      <th>attitude.pitch_outlier_outlier</th>\n",
       "      <th>attitude.yaw_outlier_outlier</th>\n",
       "    </tr>\n",
       "  </thead>\n",
       "  <tbody>\n",
       "    <tr>\n",
       "      <th>0</th>\n",
       "      <td>1.528132</td>\n",
       "      <td>-0.733896</td>\n",
       "      <td>0.696372</td>\n",
       "      <td>0.294894</td>\n",
       "      <td>-0.184493</td>\n",
       "      <td>0.377542</td>\n",
       "      <td>0.741895</td>\n",
       "      <td>0.669768</td>\n",
       "      <td>-0.031672</td>\n",
       "      <td>0.316738</td>\n",
       "      <td>...</td>\n",
       "      <td>False</td>\n",
       "      <td>False</td>\n",
       "      <td>False</td>\n",
       "      <td>False</td>\n",
       "      <td>False</td>\n",
       "      <td>False</td>\n",
       "      <td>False</td>\n",
       "      <td>False</td>\n",
       "      <td>False</td>\n",
       "      <td>False</td>\n",
       "    </tr>\n",
       "    <tr>\n",
       "      <th>1</th>\n",
       "      <td>1.527992</td>\n",
       "      <td>-0.716987</td>\n",
       "      <td>0.677762</td>\n",
       "      <td>0.219405</td>\n",
       "      <td>0.035846</td>\n",
       "      <td>0.114866</td>\n",
       "      <td>0.753099</td>\n",
       "      <td>0.657116</td>\n",
       "      <td>-0.032255</td>\n",
       "      <td>0.842032</td>\n",
       "      <td>...</td>\n",
       "      <td>False</td>\n",
       "      <td>False</td>\n",
       "      <td>False</td>\n",
       "      <td>False</td>\n",
       "      <td>False</td>\n",
       "      <td>False</td>\n",
       "      <td>False</td>\n",
       "      <td>False</td>\n",
       "      <td>False</td>\n",
       "      <td>False</td>\n",
       "    </tr>\n",
       "    <tr>\n",
       "      <th>2</th>\n",
       "      <td>1.527765</td>\n",
       "      <td>-0.706999</td>\n",
       "      <td>0.670951</td>\n",
       "      <td>0.010714</td>\n",
       "      <td>0.134701</td>\n",
       "      <td>-0.167808</td>\n",
       "      <td>0.759611</td>\n",
       "      <td>0.649555</td>\n",
       "      <td>-0.032707</td>\n",
       "      <td>-0.138143</td>\n",
       "      <td>...</td>\n",
       "      <td>False</td>\n",
       "      <td>False</td>\n",
       "      <td>False</td>\n",
       "      <td>False</td>\n",
       "      <td>False</td>\n",
       "      <td>False</td>\n",
       "      <td>False</td>\n",
       "      <td>False</td>\n",
       "      <td>False</td>\n",
       "      <td>False</td>\n",
       "    </tr>\n",
       "    <tr>\n",
       "      <th>3</th>\n",
       "      <td>1.516768</td>\n",
       "      <td>-0.704678</td>\n",
       "      <td>0.675735</td>\n",
       "      <td>-0.008389</td>\n",
       "      <td>0.136788</td>\n",
       "      <td>0.094958</td>\n",
       "      <td>0.760709</td>\n",
       "      <td>0.647788</td>\n",
       "      <td>-0.041140</td>\n",
       "      <td>-0.025005</td>\n",
       "      <td>...</td>\n",
       "      <td>False</td>\n",
       "      <td>False</td>\n",
       "      <td>False</td>\n",
       "      <td>False</td>\n",
       "      <td>False</td>\n",
       "      <td>False</td>\n",
       "      <td>False</td>\n",
       "      <td>False</td>\n",
       "      <td>False</td>\n",
       "      <td>False</td>\n",
       "    </tr>\n",
       "    <tr>\n",
       "      <th>4</th>\n",
       "      <td>1.493941</td>\n",
       "      <td>-0.703918</td>\n",
       "      <td>0.672994</td>\n",
       "      <td>0.199441</td>\n",
       "      <td>0.353996</td>\n",
       "      <td>-0.044299</td>\n",
       "      <td>0.760062</td>\n",
       "      <td>0.647210</td>\n",
       "      <td>-0.058530</td>\n",
       "      <td>0.114253</td>\n",
       "      <td>...</td>\n",
       "      <td>False</td>\n",
       "      <td>False</td>\n",
       "      <td>False</td>\n",
       "      <td>False</td>\n",
       "      <td>False</td>\n",
       "      <td>False</td>\n",
       "      <td>False</td>\n",
       "      <td>False</td>\n",
       "      <td>False</td>\n",
       "      <td>False</td>\n",
       "    </tr>\n",
       "  </tbody>\n",
       "</table>\n",
       "<p>5 rows × 41 columns</p>\n",
       "</div>"
      ],
      "text/plain": [
       "   attitude.roll  attitude.pitch  attitude.yaw  userAcceleration.x  \\\n",
       "0       1.528132       -0.733896      0.696372            0.294894   \n",
       "1       1.527992       -0.716987      0.677762            0.219405   \n",
       "2       1.527765       -0.706999      0.670951            0.010714   \n",
       "3       1.516768       -0.704678      0.675735           -0.008389   \n",
       "4       1.493941       -0.703918      0.672994            0.199441   \n",
       "\n",
       "   userAcceleration.y  userAcceleration.z  gravity.x  gravity.y  gravity.z  \\\n",
       "0           -0.184493            0.377542   0.741895   0.669768  -0.031672   \n",
       "1            0.035846            0.114866   0.753099   0.657116  -0.032255   \n",
       "2            0.134701           -0.167808   0.759611   0.649555  -0.032707   \n",
       "3            0.136788            0.094958   0.760709   0.647788  -0.041140   \n",
       "4            0.353996           -0.044299   0.760062   0.647210  -0.058530   \n",
       "\n",
       "   rotationRate.x  ...  act_outlier  id_outlier  weight_outlier  \\\n",
       "0        0.316738  ...        False       False           False   \n",
       "1        0.842032  ...        False       False           False   \n",
       "2       -0.138143  ...        False       False           False   \n",
       "3       -0.025005  ...        False       False           False   \n",
       "4        0.114253  ...        False       False           False   \n",
       "\n",
       "   height_outlier  age_outlier  gender_outlier  trial_outlier  \\\n",
       "0           False        False           False          False   \n",
       "1           False        False           False          False   \n",
       "2           False        False           False          False   \n",
       "3           False        False           False          False   \n",
       "4           False        False           False          False   \n",
       "\n",
       "   attitude.roll_outlier_outlier  attitude.pitch_outlier_outlier  \\\n",
       "0                          False                           False   \n",
       "1                          False                           False   \n",
       "2                          False                           False   \n",
       "3                          False                           False   \n",
       "4                          False                           False   \n",
       "\n",
       "   attitude.yaw_outlier_outlier  \n",
       "0                         False  \n",
       "1                         False  \n",
       "2                         False  \n",
       "3                         False  \n",
       "4                         False  \n",
       "\n",
       "[5 rows x 41 columns]"
      ]
     },
     "execution_count": 44,
     "metadata": {},
     "output_type": "execute_result"
    }
   ],
   "source": [
    "dataset.head()"
   ]
  },
  {
   "cell_type": "markdown",
   "metadata": {},
   "source": [
    "# Estimating frequency"
   ]
  },
  {
   "cell_type": "code",
   "execution_count": 6,
   "metadata": {},
   "outputs": [],
   "source": [
    "short_trials = [dataset[dataset['trial']==i] for i in range(11,len(dataset.trial.unique())+1)]"
   ]
  },
  {
   "cell_type": "code",
   "execution_count": 7,
   "metadata": {},
   "outputs": [],
   "source": [
    "hz_list = []\n",
    "for j in dataset.index.unique():\n",
    "    hz_list.append(np.mean(np.array([len(short_trials[i][short_trials[i].index==j])for i in range(len(short_trials))])/45))"
   ]
  },
  {
   "cell_type": "code",
   "execution_count": 8,
   "metadata": {},
   "outputs": [
    {
     "data": {
      "text/plain": [
       "55.83611111111111"
      ]
     },
     "execution_count": 8,
     "metadata": {},
     "output_type": "execute_result"
    }
   ],
   "source": [
    "np.mean(hz_list)"
   ]
  },
  {
   "cell_type": "code",
   "execution_count": 9,
   "metadata": {},
   "outputs": [],
   "source": [
    "long_trials = [dataset[dataset['trial']==i] for i in range(11)]\n",
    "hz_list = []\n",
    "for j in dataset.index.unique():\n",
    "    hz_list.append(np.mean(np.array([len(long_trials[i][long_trials[i].index==j])for i in range(len(long_trials))])/150))"
   ]
  },
  {
   "cell_type": "code",
   "execution_count": 10,
   "metadata": {},
   "outputs": [
    {
     "data": {
      "text/plain": [
       "27.309242424242427"
      ]
     },
     "execution_count": 10,
     "metadata": {},
     "output_type": "execute_result"
    }
   ],
   "source": [
    "np.mean(hz_list)"
   ]
  },
  {
   "cell_type": "markdown",
   "metadata": {},
   "source": [
    "# Feature engineering"
   ]
  },
  {
   "cell_type": "markdown",
   "metadata": {},
   "source": [
    "#### Frequency domain "
   ]
  },
  {
   "cell_type": "code",
   "execution_count": 11,
   "metadata": {},
   "outputs": [
    {
     "name": "stdout",
     "output_type": "stream",
     "text": [
      "20.0\n"
     ]
    }
   ],
   "source": [
    "milliseconds_per_instance = (1/50)*1000\n",
    "print(milliseconds_per_instance)"
   ]
  },
  {
   "cell_type": "markdown",
   "metadata": {},
   "source": [
    "### Split for computation"
   ]
  },
  {
   "cell_type": "code",
   "execution_count": null,
   "metadata": {},
   "outputs": [],
   "source": [
    "dataset1 = dataset[:int(len(dataset)*0.33)]\n",
    "dataset1 = dataset[int(len(dataset)*0.33):int(len(dataset)*0.66):]\n",
    "dataset1 = dataset[int(len(dataset)*0.66):]"
   ]
  },
  {
   "cell_type": "code",
   "execution_count": null,
   "metadata": {},
   "outputs": [],
   "source": [
    "from Chapter4.FrequencyAbstraction import FourierTransformation\n",
    "\n",
    "\n",
    "FreqAbs = FourierTransformation()\n",
    "fs = float(1000)/milliseconds_per_instance\n",
    "\n",
    "periodic_predictor_cols = list(dataset.columns[:12])"
   ]
  },
  {
   "cell_type": "markdown",
   "metadata": {},
   "source": [
    "Cormac"
   ]
  },
  {
   "cell_type": "code",
   "execution_count": 1,
   "metadata": {},
   "outputs": [
    {
     "ename": "NameError",
     "evalue": "name 'dataset' is not defined",
     "output_type": "error",
     "traceback": [
      "\u001b[0;31m---------------------------------------------------------------------------\u001b[0m",
      "\u001b[0;31mNameError\u001b[0m                                 Traceback (most recent call last)",
      "\u001b[0;32m<ipython-input-1-3075b36c09c8>\u001b[0m in \u001b[0;36m<module>\u001b[0;34m\u001b[0m\n\u001b[0;32m----> 1\u001b[0;31m \u001b[0mdataset\u001b[0m\u001b[0;34m\u001b[0m\u001b[0;34m\u001b[0m\u001b[0m\n\u001b[0m",
      "\u001b[0;31mNameError\u001b[0m: name 'dataset' is not defined"
     ]
    }
   ],
   "source": [
    "dataset1 = FreqAbs.abstract_frequency(dataset1, periodic_predictor_cols, int(float(10000)/milliseconds_per_instance), fs)"
   ]
  },
  {
   "cell_type": "markdown",
   "metadata": {},
   "source": [
    "Abel"
   ]
  },
  {
   "cell_type": "code",
   "execution_count": null,
   "metadata": {},
   "outputs": [],
   "source": [
    "dataset2 = FreqAbs.abstract_frequency(dataset2, periodic_predictor_cols, int(float(10000)/milliseconds_per_instance), fs)"
   ]
  },
  {
   "cell_type": "markdown",
   "metadata": {},
   "source": [
    "Natasja"
   ]
  },
  {
   "cell_type": "code",
   "execution_count": null,
   "metadata": {},
   "outputs": [],
   "source": [
    "dataset3 = FreqAbs.abstract_frequency(dataset3, periodic_predictor_cols, int(float(10000)/milliseconds_per_instance), fs)"
   ]
  },
  {
   "cell_type": "markdown",
   "metadata": {},
   "source": [
    "### Merge back together"
   ]
  },
  {
   "cell_type": "code",
   "execution_count": null,
   "metadata": {},
   "outputs": [],
   "source": [
    "dataset = pd.concat([dataset1, dataset2, dataset3])"
   ]
  },
  {
   "cell_type": "markdown",
   "metadata": {},
   "source": [
    "#### Time Domain"
   ]
  },
  {
   "cell_type": "markdown",
   "metadata": {},
   "source": [
    "# Feature Selection"
   ]
  },
  {
   "cell_type": "markdown",
   "metadata": {},
   "source": [
    "We perform selection on 20% of the dataset."
   ]
  },
  {
   "cell_type": "markdown",
   "metadata": {},
   "source": [
    "#### Initial Train split for feature selection"
   ]
  },
  {
   "cell_type": "code",
   "execution_count": null,
   "metadata": {},
   "outputs": [],
   "source": [
    "train= dataset.sample(frac=0.2,random_state=200)\n",
    "train_x = train.drop(columns=['act'])\n",
    "train_y = train['act']"
   ]
  },
  {
   "cell_type": "markdown",
   "metadata": {},
   "source": [
    "#### Forward Selection"
   ]
  },
  {
   "cell_type": "code",
   "execution_count": null,
   "metadata": {},
   "outputs": [],
   "source": [
    " selected_features, ordered_features, ordered_scores = FeatureSelectionClassification().forward_selection(max_features, train_X, train_y)"
   ]
  },
  {
   "cell_type": "code",
   "execution_count": null,
   "metadata": {},
   "outputs": [],
   "source": [
    "dataset = dataset[selected_features]"
   ]
  },
  {
   "cell_type": "code",
   "execution_count": null,
   "metadata": {},
   "outputs": [],
   "source": [
    "#dataset.to_csv(Path('selected_set.csv'))"
   ]
  },
  {
   "cell_type": "markdown",
   "metadata": {},
   "source": [
    "# Experiments - whole data set"
   ]
  },
  {
   "cell_type": "code",
   "execution_count": null,
   "metadata": {},
   "outputs": [],
   "source": [
    "# dataset = pd.read_csv(Path('selected_set.csv'))"
   ]
  },
  {
   "cell_type": "markdown",
   "metadata": {},
   "source": [
    "Begin with random forest across all targets. Whatever target seems to be most predictable we will apply other algorithms to."
   ]
  },
  {
   "cell_type": "markdown",
   "metadata": {},
   "source": [
    "Predict activity label - whole dataset."
   ]
  },
  {
   "cell_type": "code",
   "execution_count": null,
   "metadata": {},
   "outputs": [],
   "source": [
    "#Take random samples for this experiment\n",
    "train=dataset.sample(frac=0.3) #random state is a seed value\n",
    "test=dataset.drop(train.index)\n",
    "test= test.sample(frac=0.3)\n",
    "\n",
    "train_y = train['act']\n",
    "train_X = train.drop(columns=['act'])\n",
    "test_y = test['act']\n",
    "test_X = test.drop(columns=['act'])\n",
    "\n",
    "pred_training_y, pred_test_y, frame_prob_training_y, frame_prob_test_y = ClassificationAlgorithms().random_forest(train_X, train_y, test_X)\n",
    "\n"
   ]
  },
  {
   "cell_type": "markdown",
   "metadata": {},
   "source": [
    "Predict age based on sensor values - whole dataset"
   ]
  },
  {
   "cell_type": "code",
   "execution_count": null,
   "metadata": {},
   "outputs": [],
   "source": [
    "train=dataset.sample(frac=0.3)\n",
    "test=dataset.drop(train.index)\n",
    "test= test.sample(frac=0.3)\n",
    "\n",
    "train_y = train['age']\n",
    "train_X = train.drop(columns=['age'])\n",
    "test_y = test['age']\n",
    "test_X = test.drop(columns=['age'])\n",
    "\n",
    "return pred_training_y, pred_test_y = RegressionAlgorithms().random_forest(self, train_X, train_y, test_X)"
   ]
  },
  {
   "cell_type": "markdown",
   "metadata": {},
   "source": [
    "Predict gender - whole dataset"
   ]
  },
  {
   "cell_type": "code",
   "execution_count": null,
   "metadata": {},
   "outputs": [],
   "source": [
    "train=dataset.sample(frac=0.3)\n",
    "test=dataset.drop(train.index)\n",
    "test= test.sample(frac=0.3)\n",
    "\n",
    "train_y = train['gender']\n",
    "train_X = train.drop(columns=['gender'])\n",
    "test_y = test['gender']\n",
    "test_X = test.drop(columns=['gender'])\n",
    "\n",
    "pred_training_y, pred_test_y, frame_prob_training_y, frame_prob_test_y = ClassificationAlgorithms().random_forest(train_X, train_y, test_X)"
   ]
  },
  {
   "cell_type": "markdown",
   "metadata": {},
   "source": [
    "Predict weight - whole dataset"
   ]
  },
  {
   "cell_type": "code",
   "execution_count": null,
   "metadata": {},
   "outputs": [],
   "source": [
    "train=dataset.sample(frac=0.3)\n",
    "test=dataset.drop(train.index)\n",
    "test= test.sample(frac=0.3)\n",
    "\n",
    "train_y = train['weight']\n",
    "train_X = train.drop(columns=['weight'])\n",
    "test_y = test['weight']\n",
    "test_X = test.drop(columns=['weight'])\n",
    "\n",
    "\n",
    "return pred_training_y, pred_test_y = RegressionAlgorithms().random_forest(self, train_X, train_y, test_X)"
   ]
  },
  {
   "cell_type": "markdown",
   "metadata": {},
   "source": [
    "# Experiments - By Trial"
   ]
  },
  {
   "cell_type": "code",
   "execution_count": 7,
   "metadata": {},
   "outputs": [],
   "source": [
    "trials = [dataset[dataset['trial']==i] for i in dataset['trial'].unique()]"
   ]
  },
  {
   "cell_type": "code",
   "execution_count": 8,
   "metadata": {},
   "outputs": [],
   "source": [
    "class_alg = ClassificationAlgorithms()\n",
    "\n",
    "def generate_sets(data_set):\n",
    "    train=dataset.sample(frac=0.3) #random state is a seed value\n",
    "    test=dataset.drop(train.index)\n",
    "    test= test.sample(frac=0.3)\n",
    "\n",
    "    train_y = train['act']\n",
    "    train_X = train.drop(columns=['act'])\n",
    "    test_y = test['act']\n",
    "    test_X = test.drop(columns=['act'])\n",
    "    \n",
    "    return train_y, train_X, test_y, test_X\n",
    "\n",
    "\n",
    "\n",
    "def train_classification(train_y, train_X, test_y, test_X, class_alg):\n",
    "    pred_training_y, pred_test_y, frame_prob_training_y, frame_prob_test_y = class_alg.random_forest(train_X, train_y, test_X)\n",
    "    return pred_training_y, pred_test_y, frame_prob_training_y, frame_prob_test_y\n",
    "\n",
    "def evaluate_classifcation(y_true, y_pred):\n",
    "    evaluation = ClassificationEvaluation()\n",
    "    return evaluation.accuracy(y_true, y_pred), evaluation.precision(y_true, y_pred), evaluation.recall(y_true, y_pred), evaluation.f1(y_true, y_pred)\n",
    "\n"
   ]
  },
  {
   "cell_type": "markdown",
   "metadata": {},
   "source": [
    "Random forest for the labels by trial"
   ]
  },
  {
   "cell_type": "code",
   "execution_count": null,
   "metadata": {},
   "outputs": [],
   "source": [
    "acc = []\n",
    "prec = []\n",
    "recall = []\n",
    "f1 = []\n",
    "\n",
    "for subset in trials:\n",
    "    train_y, train_X, test_y, test_X = generate_sets(subset)\n",
    "    pred_training_y, pred_test_y, frame_prob_training_y, frame_prob_test_y = train_classification(train_y, train_X, test_y, test_X, class_alg)\n",
    "    accuracy, precision, recall, f1_ = evaluate_classifcation(test_y, pred_test_y)\n",
    "    acc.append(accuracy)\n",
    "    prec.append(precision)\n",
    "    recall.append(recall)\n",
    "    f1.append(f1_)"
   ]
  },
  {
   "cell_type": "code",
   "execution_count": null,
   "metadata": {},
   "outputs": [],
   "source": []
  }
 ],
 "metadata": {
  "kernelspec": {
   "display_name": "Python 3",
   "language": "python",
   "name": "python3"
  },
  "language_info": {
   "codemirror_mode": {
    "name": "ipython",
    "version": 3
   },
   "file_extension": ".py",
   "mimetype": "text/x-python",
   "name": "python",
   "nbconvert_exporter": "python",
   "pygments_lexer": "ipython3",
   "version": "3.7.6"
  }
 },
 "nbformat": 4,
 "nbformat_minor": 4
}
