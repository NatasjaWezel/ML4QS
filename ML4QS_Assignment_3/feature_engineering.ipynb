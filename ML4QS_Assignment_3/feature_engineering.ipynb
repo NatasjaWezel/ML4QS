{
 "cells": [
  {
   "cell_type": "markdown",
   "metadata": {},
   "source": [
    "# Dependencies"
   ]
  },
  {
   "cell_type": "code",
   "execution_count": 1,
   "metadata": {},
   "outputs": [],
   "source": [
    "import copy\n",
    "import os\n",
    "from multiprocessing import Pool, cpu_count\n",
    "from pathlib import Path\n",
    "import itertools\n",
    "import glob\n",
    "import time\n",
    "\n",
    "from scipy.stats import pearsonr\n",
    "import numpy as np\n",
    "import pandas as pd"
   ]
  },
  {
   "cell_type": "markdown",
   "metadata": {},
   "source": [
    "# Feature engineering"
   ]
  },
  {
   "cell_type": "code",
   "execution_count": 2,
   "metadata": {},
   "outputs": [],
   "source": [
    "dataset = pd.read_csv(\"dataset_gran_250.csv\", index_col=0)"
   ]
  },
  {
   "cell_type": "markdown",
   "metadata": {},
   "source": [
    "#### Frequency domain "
   ]
  },
  {
   "cell_type": "code",
   "execution_count": 3,
   "metadata": {},
   "outputs": [],
   "source": [
    "milliseconds_per_instance = 250"
   ]
  },
  {
   "cell_type": "markdown",
   "metadata": {},
   "source": [
    "### Split for computation\n",
    "To optimally use our resources the trials per individual will be analysed independently"
   ]
  },
  {
   "cell_type": "code",
   "execution_count": null,
   "metadata": {},
   "outputs": [],
   "source": [
    "from Chapter4.FrequencyAbstraction import FourierTransformation\n",
    "\n",
    "\n",
    "FreqAbs = FourierTransformation()\n",
    "fs = float(1000)/milliseconds_per_instance\n",
    "\n",
    "periodic_predictor_cols = list(dataset.columns[:12])\n",
    "print(periodic_predictor_cols)\n",
    "\n",
    "average_t_per_100_rows = []\n",
    "import copy\n",
    "\n",
    "def do_freq_abstract_for_trial_participant_and_save(trial, participant):\n",
    "    \"\"\"\n",
    "    Does freq abstrac on a single participant for a single trial. After inference results\n",
    "    are saved to a individual csv for later fusing results.\n",
    "    \"\"\"\n",
    "    \n",
    "    t_start = time.time()\n",
    "    \n",
    "    print(f'Worker doing trial {trial} and participant {participant}')\n",
    "    \n",
    "    ds = copy.copy(dataset[(dataset.trial == trial) & (dataset.id == participant)])\n",
    "\n",
    "    my_set = FreqAbs.abstract_frequency(data_table = ds, \n",
    "                                        cols = periodic_predictor_cols, \n",
    "                                        window_size = int(float(10000)/milliseconds_per_instance), \n",
    "                                        sampling_rate = fs)\n",
    "    my_set.to_csv(f'freq_abstraction_csvs/trial_{trial}_participant_{participant}.csv')\n",
    "    \n",
    "    t_done = time.time()\n",
    "    \n",
    "    print(f'Trial {trial} and participant {participant} finished, took {t_done - t_start} seconds')"
   ]
  },
  {
   "cell_type": "code",
   "execution_count": 5,
   "metadata": {},
   "outputs": [
    {
     "name": "stdout",
     "output_type": "stream",
     "text": [
      "[ 1.  2. 11.  3.  4.]\n",
      "[12.  7.  8. 15.  9.]\n",
      "[16.  6. 14.  5. 13.]\n"
     ]
    }
   ],
   "source": [
    "# divide and conquer\n",
    "participants = dataset.id.unique()\n",
    "\n",
    "cormac_trials = dataset.trial.unique()[:5]\n",
    "abel_trials = dataset.trial.unique()[5:10]\n",
    "natasja_trials = dataset.trial.unique()[10:15]\n",
    "\n",
    "print(cormac_trials)\n",
    "print(abel_trials)\n",
    "print(natasja_trials)"
   ]
  },
  {
   "cell_type": "markdown",
   "metadata": {},
   "source": [
    "# Cormac"
   ]
  },
  {
   "cell_type": "code",
   "execution_count": 6,
   "metadata": {
    "scrolled": false
   },
   "outputs": [
    {
     "name": "stdout",
     "output_type": "stream",
     "text": [
      "All done now\n"
     ]
    }
   ],
   "source": [
    "# with Pool(processes=cpu_count()) as p:\n",
    "#     r = p.starmap(do_freq_abstract_for_trial_participant_and_save, itertools.product(cormac_trials, participants))\n",
    "#     print(r)\n",
    "\n",
    "print('All done now')"
   ]
  },
  {
   "cell_type": "markdown",
   "metadata": {},
   "source": [
    "# Abel"
   ]
  },
  {
   "cell_type": "code",
   "execution_count": 7,
   "metadata": {},
   "outputs": [
    {
     "name": "stdout",
     "output_type": "stream",
     "text": [
      "All done now\n"
     ]
    }
   ],
   "source": [
    "# with Pool(processes=cpu_count()) as p:\n",
    "#     r = p.starmap(do_freq_abstract_for_trial_participant_and_save, itertools.product(abel_trials, participants))\n",
    "#     print(r)\n",
    "print('All done now')"
   ]
  },
  {
   "cell_type": "markdown",
   "metadata": {},
   "source": [
    "# Natasja"
   ]
  },
  {
   "cell_type": "code",
   "execution_count": null,
   "metadata": {},
   "outputs": [],
   "source": []
  },
  {
   "cell_type": "code",
   "execution_count": 8,
   "metadata": {
    "scrolled": false
   },
   "outputs": [
    {
     "name": "stdout",
     "output_type": "stream",
     "text": [
      "[ 0.  1.  2.  3.  4.  5.  6.  7.  8.  9. 10. 11. 12. 13. 14. 15. 16. 17.\n",
      " 18. 19. 20. 21. 22. 23.]\n",
      "[16.  6. 14.  5. 13.]\n",
      "Worker doing trial 16.0 and participant 4.0\n",
      "Worker doing trial 16.0 and participant 0.0\n",
      "Worker doing trial 16.0 and participant 8.0\n",
      "Worker doing trial 16.0 and participant 16.0\n",
      "Worker doing trial 16.0 and participant 12.0\n",
      "Worker doing trial 16.0 and participant 20.0\n",
      "Worker doing trial 6.0 and participant 0.0\n",
      "Worker doing trial 6.0 and participant 4.0\n",
      "Took 2.7636218070983887 seconds\n",
      "Worker doing trial 16.0 and participant 5.0\n",
      "Took 3.6538562774658203 seconds\n",
      "Worker doing trial 16.0 and participant 17.0\n",
      "Took 4.930432081222534 seconds\n",
      "Worker doing trial 16.0 and participant 13.0\n",
      "Took 5.492757320404053 seconds\n",
      "Worker doing trial 16.0 and participant 9.0\n",
      "Took 3.664729595184326 seconds\n",
      "Worker doing trial 16.0 and participant 6.0\n",
      "Took 8.426671743392944 seconds\n",
      "Worker doing trial 16.0 and participant 1.0\n",
      "Took 8.574840545654297 seconds\n",
      "Worker doing trial 16.0 and participant 21.0\n",
      "Took 5.687563180923462 seconds\n",
      "Worker doing trial 16.0 and participant 18.0\n",
      "Took 5.398987054824829 seconds\n",
      "Worker doing trial 16.0 and participant 14.0\n",
      "Took 7.281744480133057 seconds\n",
      "Worker doing trial 16.0 and participant 10.0\n",
      "Took 6.515015363693237 seconds\n",
      "Worker doing trial 16.0 and participant 7.0\n",
      "Took 5.588377475738525 seconds\n",
      "Worker doing trial 16.0 and participant 19.0\n",
      "Took 5.52186393737793 seconds\n",
      "Worker doing trial 16.0 and participant 15.0\n",
      "Took 7.535271883010864 seconds\n",
      "Worker doing trial 16.0 and participant 2.0\n",
      "Took 7.610536575317383 seconds\n",
      "Worker doing trial 16.0 and participant 22.0\n",
      "Took 3.987549304962158 seconds\n",
      "Worker doing trial 16.0 and participant 11.0\n",
      "Took 6.702176332473755 seconds\n",
      "Worker doing trial 16.0 and participant 23.0\n",
      "Took 7.6122777462005615 seconds\n",
      "Worker doing trial 16.0 and participant 3.0\n",
      "Took 8.750303983688354 seconds\n",
      "Worker doing trial 6.0 and participant 8.0\n",
      "Took 8.092605352401733 seconds\n",
      "Worker doing trial 6.0 and participant 12.0\n",
      "Took 3.4890096187591553 seconds\n",
      "Worker doing trial 6.0 and participant 16.0\n",
      "Took 14.046900987625122 seconds\n",
      "Worker doing trial 6.0 and participant 20.0\n",
      "Took 11.971819639205933 seconds\n",
      "Worker doing trial 14.0 and participant 0.0\n",
      "Took 4.634884834289551 seconds\n",
      "Worker doing trial 14.0 and participant 4.0\n",
      "Took 19.547264099121094 seconds\n",
      "Worker doing trial 14.0 and participant 1.0\n",
      "Took 25.685712337493896 seconds\n",
      "Worker doing trial 14.0 and participant 5.0\n",
      "Took 17.875149726867676 seconds\n",
      "Worker doing trial 14.0 and participant 2.0\n",
      "Took 74.76503729820251 seconds\n",
      "Worker doing trial 6.0 and participant 5.0\n",
      "Took 83.63367986679077 seconds\n",
      "Worker doing trial 6.0 and participant 1.0\n",
      "Took 60.770751953125 seconds\n",
      "Worker doing trial 6.0 and participant 17.0\n",
      "Took 65.59430766105652 seconds\n",
      "Worker doing trial 6.0 and participant 9.0\n",
      "Took 33.13847899436951 seconds\n",
      "Worker doing trial 14.0 and participant 3.0\n",
      "Took 44.95951294898987 seconds\n",
      "Worker doing trial 14.0 and participant 6.0\n",
      "Took 18.01277756690979 seconds\n",
      "Worker doing trial 14.0 and participant 8.0\n",
      "Took 90.79944896697998 seconds\n",
      "Worker doing trial 6.0 and participant 21.0\n",
      "Took 19.37223720550537 seconds\n",
      "Worker doing trial 14.0 and participant 7.0\n",
      "Took 102.12780737876892 seconds\n",
      "Worker doing trial 6.0 and participant 13.0\n",
      "Took 15.895958185195923 seconds\n",
      "Worker doing trial 14.0 and participant 9.0\n",
      "Took 24.219853401184082 seconds\n",
      "Worker doing trial 14.0 and participant 12.0\n",
      "Took 58.66718792915344 seconds\n",
      "Worker doing trial 6.0 and participant 10.0\n",
      "Took 74.10141563415527 seconds\n",
      "Worker doing trial 6.0 and participant 6.0\n",
      "Took 62.57440447807312 seconds\n",
      "Worker doing trial 6.0 and participant 18.0\n",
      "Took 66.41085410118103 seconds\n",
      "Worker doing trial 6.0 and participant 2.0\n",
      "Took 24.388347864151 seconds\n",
      "Worker doing trial 14.0 and participant 10.0\n",
      "Took 29.03791832923889 seconds\n",
      "Worker doing trial 14.0 and participant 13.0\n",
      "Took 20.96563482284546 seconds\n",
      "Worker doing trial 14.0 and participant 11.0\n",
      "Took 61.51936101913452 seconds\n",
      "Worker doing trial 6.0 and participant 22.0\n",
      "Took 18.79396677017212 seconds\n",
      "Worker doing trial 14.0 and participant 14.0\n",
      "Took 15.073116064071655 seconds\n",
      "Worker doing trial 14.0 and participant 16.0\n",
      "Took 78.77477192878723 seconds\n",
      "Worker doing trial 6.0 and participant 14.0\n",
      "Took 22.379033088684082 seconds\n",
      "Worker doing trial 14.0 and participant 17.0\n",
      "Took 74.44416284561157 seconds\n",
      "Worker doing trial 6.0 and participant 7.0\n",
      "Took 39.09861946105957 seconds\n",
      "Worker doing trial 14.0 and participant 15.0\n",
      "Took 82.79582285881042 seconds\n",
      "Worker doing trial 6.0 and participant 3.0\n",
      "Took 54.119494676589966 seconds\n",
      "Worker doing trial 6.0 and participant 23.0\n",
      "Took 88.67213988304138 seconds\n",
      "Worker doing trial 6.0 and participant 11.0\n",
      "Took 28.577910900115967 seconds\n",
      "Worker doing trial 14.0 and participant 18.0\n",
      "Took 30.983457803726196 seconds\n",
      "Worker doing trial 14.0 and participant 20.0\n",
      "Took 59.684876680374146 seconds\n",
      "Worker doing trial 6.0 and participant 15.0\n",
      "Took 29.274946928024292 seconds\n",
      "Worker doing trial 14.0 and participant 19.0\n",
      "Took 133.35284519195557 seconds\n",
      "Worker doing trial 6.0 and participant 19.0\n",
      "Took 14.289696455001831 seconds\n",
      "Worker doing trial 5.0 and participant 0.0\n",
      "Took 28.631582260131836 seconds\n",
      "Worker doing trial 14.0 and participant 21.0\n",
      "Took 63.83832120895386 seconds\n",
      "Worker doing trial 5.0 and participant 4.0\n",
      "Took 84.58853888511658 seconds\n",
      "Worker doing trial 5.0 and participant 8.0\n",
      "Took 74.73587107658386 seconds\n",
      "Worker doing trial 5.0 and participant 12.0\n",
      "Took 87.22341179847717 seconds\n",
      "Worker doing trial 5.0 and participant 16.0\n",
      "Took 45.02959108352661 seconds\n",
      "Worker doing trial 14.0 and participant 22.0\n",
      "Took 73.39440202713013 seconds\n",
      "Worker doing trial 5.0 and participant 20.0\n",
      "Took 13.71655559539795 seconds\n",
      "Worker doing trial 14.0 and participant 23.0\n",
      "Took 77.67695140838623 seconds\n",
      "Worker doing trial 13.0 and participant 0.0\n",
      "Took 81.78124070167542 seconds\n",
      "Worker doing trial 5.0 and participant 1.0\n",
      "Took 77.34146690368652 seconds\n",
      "Worker doing trial 5.0 and participant 5.0\n",
      "Took 29.144075393676758 seconds\n",
      "Worker doing trial 13.0 and participant 4.0\n",
      "Took 79.21279907226562 seconds\n",
      "Worker doing trial 5.0 and participant 13.0\n",
      "Took 90.82167792320251 seconds\n",
      "Worker doing trial 5.0 and participant 9.0\n",
      "Took 31.922422409057617 seconds\n",
      "Worker doing trial 13.0 and participant 5.0\n",
      "Took 90.3355803489685 seconds\n",
      "Worker doing trial 5.0 and participant 17.0\n",
      "Took 80.94265103340149 seconds\n",
      "Worker doing trial 5.0 and participant 21.0\n",
      "Took 60.47798728942871 seconds\n",
      "Worker doing trial 5.0 and participant 6.0\n",
      "Took 30.944888830184937 seconds\n",
      "Worker doing trial 13.0 and participant 6.0\n",
      "Took 73.46267867088318 seconds\n",
      "Worker doing trial 5.0 and participant 2.0\n",
      "Took 82.46264910697937 seconds\n",
      "Worker doing trial 13.0 and participant 1.0\n",
      "Took 26.176820755004883 seconds\n",
      "Worker doing trial 13.0 and participant 2.0\n",
      "Took 75.42405009269714 seconds\n",
      "Worker doing trial 5.0 and participant 10.0\n",
      "Took 37.41233038902283 seconds\n",
      "Worker doing trial 13.0 and participant 7.0\n",
      "Took 68.9153184890747 seconds\n",
      "Worker doing trial 5.0 and participant 18.0\n",
      "Took 12.37641716003418 seconds\n",
      "Worker doing trial 13.0 and participant 3.0\n",
      "Took 67.91360187530518 seconds\n",
      "Worker doing trial 5.0 and participant 22.0\n",
      "Took 101.67326974868774 seconds\n",
      "Worker doing trial 5.0 and participant 14.0\n",
      "Took 21.69208812713623 seconds\n",
      "Worker doing trial 13.0 and participant 8.0\n",
      "Took 35.561758041381836 seconds\n",
      "Worker doing trial 13.0 and participant 12.0\n",
      "Took 92.74158716201782 seconds\n",
      "Worker doing trial 5.0 and participant 7.0\n",
      "Took 47.84427309036255 seconds\n",
      "Worker doing trial 5.0 and participant 23.0\n",
      "Took 22.896444082260132 seconds\n",
      "Worker doing trial 13.0 and participant 13.0\n",
      "Took 62.90100312232971 seconds\n",
      "Worker doing trial 5.0 and participant 11.0\n",
      "Took 97.63481783866882 seconds\n",
      "Worker doing trial 5.0 and participant 3.0\n",
      "Took 38.54291844367981 seconds\n",
      "Worker doing trial 13.0 and participant 9.0\n",
      "Took 20.94008708000183 seconds\n",
      "Worker doing trial 13.0 and participant 14.0\n",
      "Took 77.60603785514832 seconds\n",
      "Worker doing trial 5.0 and participant 15.0\n",
      "Took 94.86621236801147 seconds\n",
      "Worker doing trial 5.0 and participant 19.0\n",
      "Took 45.38915133476257 seconds\n",
      "Worker doing trial 13.0 and participant 10.0\n",
      "Took 63.2993106842041 seconds\n",
      "Worker doing trial 13.0 and participant 16.0\n"
     ]
    },
    {
     "name": "stdout",
     "output_type": "stream",
     "text": [
      "Took 46.579503536224365 seconds\n",
      "Worker doing trial 13.0 and participant 15.0\n",
      "Took 77.7903413772583 seconds\n",
      "Worker doing trial 13.0 and participant 20.0\n",
      "Took 71.46328020095825 seconds\n",
      "Took 85.25915837287903 seconds\n",
      "Took 23.1933810710907 seconds\n",
      "Worker doing trial 13.0 and participant 17.0\n",
      "Took 31.975690603256226 seconds\n",
      "Took 31.715763092041016 seconds\n",
      "Worker doing trial 13.0 and participant 21.0\n",
      "Took 63.081684589385986 seconds\n",
      "Took 60.735942363739014 seconds\n",
      "Worker doing trial 13.0 and participant 11.0\n",
      "Took 32.2468478679657 seconds\n",
      "Worker doing trial 13.0 and participant 18.0\n",
      "Took 86.32166957855225 seconds\n",
      "Took 23.96027660369873 seconds\n",
      "Worker doing trial 13.0 and participant 22.0\n",
      "Took 17.466312885284424 seconds\n",
      "Took 15.77765154838562 seconds\n",
      "Worker doing trial 13.0 and participant 23.0\n",
      "Took 27.908703804016113 seconds\n",
      "Worker doing trial 13.0 and participant 19.0\n",
      "Took 16.656466245651245 seconds\n",
      "Took 10.989400625228882 seconds\n",
      "[None, None, None, None, None, None, None, None, None, None, None, None, None, None, None, None, None, None, None, None, None, None, None, None, None, None, None, None, None, None, None, None, None, None, None, None, None, None, None, None, None, None, None, None, None, None, None, None, None, None, None, None, None, None, None, None, None, None, None, None, None, None, None, None, None, None, None, None, None, None, None, None, None, None, None, None, None, None, None, None, None, None, None, None, None, None, None, None, None, None, None, None, None, None, None, None, None, None, None, None, None, None, None, None, None, None, None, None, None, None, None, None, None, None, None, None, None, None, None, None]\n",
      "All done now\n"
     ]
    }
   ],
   "source": [
    "print(participants)\n",
    "print(natasja_trials)\n",
    "\n",
    "# for trial in natasja_trials:\n",
    "#     for participant in participants:\n",
    "#         do_freq_abstract_for_trial_participant_and_save(trial, participant)\n",
    "\n",
    "with Pool(processes=cpu_count()) as p:\n",
    "    r = p.starmap(do_freq_abstract_for_trial_participant_and_save, itertools.product(natasja_trials, participants))\n",
    "    print(r)\n",
    "\n",
    "print('All done now')"
   ]
  },
  {
   "cell_type": "markdown",
   "metadata": {},
   "source": [
    "### Merge back together"
   ]
  },
  {
   "cell_type": "code",
   "execution_count": 9,
   "metadata": {},
   "outputs": [
    {
     "ename": "ValueError",
     "evalue": "No objects to concatenate",
     "output_type": "error",
     "traceback": [
      "\u001b[0;31m---------------------------------------------------------------------------\u001b[0m",
      "\u001b[0;31mValueError\u001b[0m                                Traceback (most recent call last)",
      "\u001b[0;32m<ipython-input-9-efdbb1627820>\u001b[0m in \u001b[0;36m<module>\u001b[0;34m\u001b[0m\n\u001b[1;32m      4\u001b[0m     \u001b[0mdatasets\u001b[0m\u001b[0;34m.\u001b[0m\u001b[0mappend\u001b[0m\u001b[0;34m(\u001b[0m\u001b[0mpd\u001b[0m\u001b[0;34m.\u001b[0m\u001b[0mread_csv\u001b[0m\u001b[0;34m(\u001b[0m\u001b[0mcsv_file_freq_abs\u001b[0m\u001b[0;34m)\u001b[0m\u001b[0;34m)\u001b[0m\u001b[0;34m\u001b[0m\u001b[0;34m\u001b[0m\u001b[0m\n\u001b[1;32m      5\u001b[0m \u001b[0;34m\u001b[0m\u001b[0m\n\u001b[0;32m----> 6\u001b[0;31m \u001b[0mdataset\u001b[0m \u001b[0;34m=\u001b[0m \u001b[0mpd\u001b[0m\u001b[0;34m.\u001b[0m\u001b[0mconcat\u001b[0m\u001b[0;34m(\u001b[0m\u001b[0mdatasets\u001b[0m\u001b[0;34m)\u001b[0m\u001b[0;34m\u001b[0m\u001b[0;34m\u001b[0m\u001b[0m\n\u001b[0m\u001b[1;32m      7\u001b[0m \u001b[0;34m\u001b[0m\u001b[0m\n\u001b[1;32m      8\u001b[0m \u001b[0mdataset\u001b[0m\u001b[0;34m.\u001b[0m\u001b[0mto_csv\u001b[0m\u001b[0;34m(\u001b[0m\u001b[0;34m\"dataset_engineered_features.csv\"\u001b[0m\u001b[0;34m)\u001b[0m\u001b[0;34m\u001b[0m\u001b[0;34m\u001b[0m\u001b[0m\n",
      "\u001b[0;32m~/.local/lib/python3.6/site-packages/pandas/core/reshape/concat.py\u001b[0m in \u001b[0;36mconcat\u001b[0;34m(objs, axis, join, ignore_index, keys, levels, names, verify_integrity, sort, copy)\u001b[0m\n\u001b[1;32m    279\u001b[0m         \u001b[0mverify_integrity\u001b[0m\u001b[0;34m=\u001b[0m\u001b[0mverify_integrity\u001b[0m\u001b[0;34m,\u001b[0m\u001b[0;34m\u001b[0m\u001b[0;34m\u001b[0m\u001b[0m\n\u001b[1;32m    280\u001b[0m         \u001b[0mcopy\u001b[0m\u001b[0;34m=\u001b[0m\u001b[0mcopy\u001b[0m\u001b[0;34m,\u001b[0m\u001b[0;34m\u001b[0m\u001b[0;34m\u001b[0m\u001b[0m\n\u001b[0;32m--> 281\u001b[0;31m         \u001b[0msort\u001b[0m\u001b[0;34m=\u001b[0m\u001b[0msort\u001b[0m\u001b[0;34m,\u001b[0m\u001b[0;34m\u001b[0m\u001b[0;34m\u001b[0m\u001b[0m\n\u001b[0m\u001b[1;32m    282\u001b[0m     )\n\u001b[1;32m    283\u001b[0m \u001b[0;34m\u001b[0m\u001b[0m\n",
      "\u001b[0;32m~/.local/lib/python3.6/site-packages/pandas/core/reshape/concat.py\u001b[0m in \u001b[0;36m__init__\u001b[0;34m(self, objs, axis, join, keys, levels, names, ignore_index, verify_integrity, copy, sort)\u001b[0m\n\u001b[1;32m    327\u001b[0m \u001b[0;34m\u001b[0m\u001b[0m\n\u001b[1;32m    328\u001b[0m         \u001b[0;32mif\u001b[0m \u001b[0mlen\u001b[0m\u001b[0;34m(\u001b[0m\u001b[0mobjs\u001b[0m\u001b[0;34m)\u001b[0m \u001b[0;34m==\u001b[0m \u001b[0;36m0\u001b[0m\u001b[0;34m:\u001b[0m\u001b[0;34m\u001b[0m\u001b[0;34m\u001b[0m\u001b[0m\n\u001b[0;32m--> 329\u001b[0;31m             \u001b[0;32mraise\u001b[0m \u001b[0mValueError\u001b[0m\u001b[0;34m(\u001b[0m\u001b[0;34m\"No objects to concatenate\"\u001b[0m\u001b[0;34m)\u001b[0m\u001b[0;34m\u001b[0m\u001b[0;34m\u001b[0m\u001b[0m\n\u001b[0m\u001b[1;32m    330\u001b[0m \u001b[0;34m\u001b[0m\u001b[0m\n\u001b[1;32m    331\u001b[0m         \u001b[0;32mif\u001b[0m \u001b[0mkeys\u001b[0m \u001b[0;32mis\u001b[0m \u001b[0;32mNone\u001b[0m\u001b[0;34m:\u001b[0m\u001b[0;34m\u001b[0m\u001b[0;34m\u001b[0m\u001b[0m\n",
      "\u001b[0;31mValueError\u001b[0m: No objects to concatenate"
     ]
    }
   ],
   "source": [
    "datasets = []\n",
    "\n",
    "for csv_file_freq_abs in glob.glob('freq_abstraction_trial_*_participant_*.csv'):\n",
    "    datasets.append(pd.read_csv(csv_file_freq_abs))\n",
    "\n",
    "dataset = pd.concat(datasets)\n",
    "\n",
    "dataset.to_csv(\"dataset_engineered_features.csv\")\n"
   ]
  },
  {
   "cell_type": "markdown",
   "metadata": {},
   "source": [
    "#### Time Domain"
   ]
  },
  {
   "cell_type": "code",
   "execution_count": null,
   "metadata": {},
   "outputs": [],
   "source": []
  }
 ],
 "metadata": {
  "kernelspec": {
   "display_name": "Python 3",
   "language": "python",
   "name": "python3"
  },
  "language_info": {
   "codemirror_mode": {
    "name": "ipython",
    "version": 3
   },
   "file_extension": ".py",
   "mimetype": "text/x-python",
   "name": "python",
   "nbconvert_exporter": "python",
   "pygments_lexer": "ipython3",
   "version": "3.6.9"
  }
 },
 "nbformat": 4,
 "nbformat_minor": 4
}
