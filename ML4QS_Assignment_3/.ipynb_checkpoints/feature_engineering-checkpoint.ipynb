{
 "cells": [
  {
   "cell_type": "markdown",
   "metadata": {},
   "source": [
    "# Dependencies"
   ]
  },
  {
   "cell_type": "code",
   "execution_count": null,
   "metadata": {},
   "outputs": [],
   "source": [
    "import copy\n",
    "import os\n",
    "from multiprocessing import Pool, cpu_count\n",
    "from pathlib import Path\n",
    "import itertools\n",
    "import glob\n",
    "import time\n",
    "\n",
    "from scipy.stats import pearsonr\n",
    "import numpy as np\n",
    "import pandas as pd"
   ]
  },
  {
   "cell_type": "markdown",
   "metadata": {},
   "source": [
    "# Feature engineering"
   ]
  },
  {
   "cell_type": "code",
   "execution_count": null,
   "metadata": {},
   "outputs": [],
   "source": [
    "dataset = pd.read_csv(\"dataset_gran_250.csv\")"
   ]
  },
  {
   "cell_type": "markdown",
   "metadata": {},
   "source": [
    "#### Frequency domain "
   ]
  },
  {
   "cell_type": "code",
   "execution_count": null,
   "metadata": {},
   "outputs": [],
   "source": [
    "milliseconds_per_instance = (1/50)*1000\n",
    "print(milliseconds_per_instance)"
   ]
  },
  {
   "cell_type": "code",
   "execution_count": null,
   "metadata": {},
   "outputs": [],
   "source": []
  },
  {
   "cell_type": "markdown",
   "metadata": {},
   "source": [
    "### Split for computation\n",
    "To optimally use our resources the trials per individual will be analysed independently"
   ]
  },
  {
   "cell_type": "code",
   "execution_count": null,
   "metadata": {},
   "outputs": [],
   "source": [
    "from Chapter4.FrequencyAbstraction import FourierTransformation\n",
    "\n",
    "\n",
    "FreqAbs = FourierTransformation()\n",
    "fs = float(1000)/milliseconds_per_instance\n",
    "\n",
    "periodic_predictor_cols = list(dataset.columns[:12])\n",
    "\n",
    "\n",
    "average_t_per_100_rows = []\n",
    "\n",
    "def do_freq_abstract_for_trial_participant_and_save(trial, participant):\n",
    "    \"\"\"\n",
    "    Does freq abstrac on a single participant for a single trial. After inference results\n",
    "    are saved to a individual csv for later fusing results.\n",
    "    \"\"\"\n",
    "    \n",
    "    t_start = time.time()\n",
    "    \n",
    "    print(f'Worker doing trial {trial} and participant {participant}')\n",
    "    \n",
    "    ds = dataset[dataset.trial.eq(trial)][dataset.id.eq(participant)]\n",
    "    \n",
    "    print(f'Working on dataset of shape {ds.shape}')\n",
    "    \n",
    "    try:\n",
    "        expected_run_time = sum(average_t_per_100_rows)/len(average_t_per_100_rows) * (ds.shape[0]/100)\n",
    "    except:\n",
    "         expected_run_time = 'UNKNOWN'\n",
    "    \n",
    "    print(f'Expected run time: {expected_run_time} s')\n",
    "    \n",
    "    my_set = FreqAbs.abstract_frequency(ds, periodic_predictor_cols, int(float(10000)/milliseconds_per_instance), fs)\n",
    "    \n",
    "    my_set.to_csv(f'freq_abstraction_csvs/freq_abstraction_trial_{trial}_participant_{participant}.csv')\n",
    "    t_done = time.time()\n",
    "    total_time = t_done-t_start\n",
    "    print(f'Took {total_time} seconds')\n",
    "    run_time_per_row = total_time/ds.shape[0] if ds.shape[0] else 0\n",
    "    average_t_per_100_rows.append(100*run_time_per_row)\n",
    "    \n",
    "    \n",
    "    "
   ]
  },
  {
   "cell_type": "markdown",
   "metadata": {},
   "source": [
    "# Cormac"
   ]
  },
  {
   "cell_type": "code",
   "execution_count": null,
   "metadata": {},
   "outputs": [],
   "source": [
    "cormac_trials = dataset.trial.unique()[:5] #dataset.trial.unique()[:5]\n",
    "participants = dataset.id.unique()\n",
    "\n",
    "with Pool(processes=cpu_count()) as p:\n",
    "    r = p.starmap(do_freq_abstract_for_trial_participant_and_save, itertools.product(cormac_trials, participants))\n",
    "    print(r)\n",
    "\n",
    "print('All done now')"
   ]
  },
  {
   "cell_type": "markdown",
   "metadata": {},
   "source": [
    "# Abel"
   ]
  },
  {
   "cell_type": "code",
   "execution_count": null,
   "metadata": {},
   "outputs": [],
   "source": [
    "abel_trials = dataset.trial.unique()[5:10]\n",
    "participants = dataset.id.unique()\n",
    "\n",
    "with Pool(processes=cpu_count()) as p:\n",
    "    r = p.starmap(do_freq_abstract_for_trial_participant_and_save, itertools.product(abel_trials, participants))\n",
    "\n",
    "print('All done now')"
   ]
  },
  {
   "cell_type": "markdown",
   "metadata": {},
   "source": [
    "# Natasja"
   ]
  },
  {
   "cell_type": "code",
   "execution_count": null,
   "metadata": {},
   "outputs": [],
   "source": [
    "natasja_trials = dataset.trial.unique()[10:15]\n",
    "participants = dataset.id.unique()\n",
    "\n",
    "with Pool(processes=cpu_count()) as p:\n",
    "    r = p.starmap(do_freq_abstract_for_trial_participant_and_save, itertools.product(natasja_trials, participants))\n",
    "    print(r)\n",
    "\n",
    "print('All done now')"
   ]
  },
  {
   "cell_type": "markdown",
   "metadata": {},
   "source": [
    "### Merge back together"
   ]
  },
  {
   "cell_type": "code",
   "execution_count": null,
   "metadata": {},
   "outputs": [],
   "source": [
    "datasets = []\n",
    "\n",
    "for csv_file_freq_abs in glob.glob('freq_abstraction_trial_*_participant_*.csv'):\n",
    "    datasets.append(pd.read_csv(csv_file_freq_abs))\n",
    "\n",
    "    \n",
    "    \n",
    "dataset = pd.concat(datasets)\n",
    "\n",
    "dataset.to_csv(\"dataset_engineered_features.csv\")\n"
   ]
  },
  {
   "cell_type": "markdown",
   "metadata": {},
   "source": [
    "#### Time Domain"
   ]
  },
  {
   "cell_type": "code",
   "execution_count": null,
   "metadata": {},
   "outputs": [],
   "source": []
  }
 ],
 "metadata": {
  "kernelspec": {
   "display_name": "Python 3",
   "language": "python",
   "name": "python3"
  },
  "language_info": {
   "codemirror_mode": {
    "name": "ipython",
    "version": 3
   },
   "file_extension": ".py",
   "mimetype": "text/x-python",
   "name": "python",
   "nbconvert_exporter": "python",
   "pygments_lexer": "ipython3",
   "version": "3.6.9"
  }
 },
 "nbformat": 4,
 "nbformat_minor": 4
}
